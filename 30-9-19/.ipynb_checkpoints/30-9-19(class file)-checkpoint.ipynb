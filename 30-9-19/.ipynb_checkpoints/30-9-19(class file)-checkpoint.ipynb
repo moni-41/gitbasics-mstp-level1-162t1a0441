{
 "cells": [
  {
   "cell_type": "markdown",
   "metadata": {},
   "source": [
    "## Dictionaries"
   ]
  },
  {
   "cell_type": "code",
   "execution_count": 1,
   "metadata": {},
   "outputs": [],
   "source": [
    "# Combination of key ,keyvalues and it can be enclosed by {}\n",
    "# Dictionareis have unorderd,unindexed.\n"
   ]
  },
  {
   "cell_type": "code",
   "execution_count": 2,
   "metadata": {},
   "outputs": [
    {
     "data": {
      "text/plain": [
       "dict"
      ]
     },
     "execution_count": 2,
     "metadata": {},
     "output_type": "execute_result"
    }
   ],
   "source": [
    "a={}\n",
    "type(a)"
   ]
  },
  {
   "cell_type": "code",
   "execution_count": 3,
   "metadata": {},
   "outputs": [
    {
     "data": {
      "text/plain": [
       "['__class__',\n",
       " '__contains__',\n",
       " '__delattr__',\n",
       " '__delitem__',\n",
       " '__dir__',\n",
       " '__doc__',\n",
       " '__eq__',\n",
       " '__format__',\n",
       " '__ge__',\n",
       " '__getattribute__',\n",
       " '__getitem__',\n",
       " '__gt__',\n",
       " '__hash__',\n",
       " '__init__',\n",
       " '__init_subclass__',\n",
       " '__iter__',\n",
       " '__le__',\n",
       " '__len__',\n",
       " '__lt__',\n",
       " '__ne__',\n",
       " '__new__',\n",
       " '__reduce__',\n",
       " '__reduce_ex__',\n",
       " '__repr__',\n",
       " '__setattr__',\n",
       " '__setitem__',\n",
       " '__sizeof__',\n",
       " '__str__',\n",
       " '__subclasshook__',\n",
       " 'clear',\n",
       " 'copy',\n",
       " 'fromkeys',\n",
       " 'get',\n",
       " 'items',\n",
       " 'keys',\n",
       " 'pop',\n",
       " 'popitem',\n",
       " 'setdefault',\n",
       " 'update',\n",
       " 'values']"
      ]
     },
     "execution_count": 3,
     "metadata": {},
     "output_type": "execute_result"
    }
   ],
   "source": [
    "dir(dict)"
   ]
  },
  {
   "cell_type": "code",
   "execution_count": 4,
   "metadata": {},
   "outputs": [
    {
     "name": "stdout",
     "output_type": "stream",
     "text": [
      "Help on method_descriptor:\n",
      "\n",
      "clear(...)\n",
      "    D.clear() -> None.  Remove all items from D.\n",
      "\n"
     ]
    }
   ],
   "source": [
    "help(dict.clear)"
   ]
  },
  {
   "cell_type": "code",
   "execution_count": 6,
   "metadata": {},
   "outputs": [
    {
     "name": "stdout",
     "output_type": "stream",
     "text": [
      "{'key1': 'valuue', 'name': 'kvsw', 'rollnumber': 441}\n"
     ]
    }
   ],
   "source": [
    "d={\"key1\":\"valuue\",\"name\":\"kvsw\",\"rollnumber\":441}\n",
    "print(d)"
   ]
  },
  {
   "cell_type": "code",
   "execution_count": 7,
   "metadata": {},
   "outputs": [
    {
     "name": "stdout",
     "output_type": "stream",
     "text": [
      "key1\n",
      "name\n",
      "rollnumber\n"
     ]
    }
   ],
   "source": [
    "for i in d:\n",
    "    print(i)"
   ]
  },
  {
   "cell_type": "code",
   "execution_count": 8,
   "metadata": {},
   "outputs": [
    {
     "name": "stdout",
     "output_type": "stream",
     "text": [
      "dict_keys(['key1', 'name', 'rollnumber'])\n",
      "{'key1': 'valuue', 'name': 'kvsw', 'rollnumber': 441}\n"
     ]
    }
   ],
   "source": [
    "print(d.keys())\n",
    "print(d)"
   ]
  },
  {
   "cell_type": "code",
   "execution_count": 9,
   "metadata": {},
   "outputs": [
    {
     "name": "stdout",
     "output_type": "stream",
     "text": [
      "{'n': None, 'a': None, 'm': None, 'e': None}\n"
     ]
    }
   ],
   "source": [
    "print(d.fromkeys(\"name\"))"
   ]
  },
  {
   "cell_type": "code",
   "execution_count": 10,
   "metadata": {},
   "outputs": [
    {
     "name": "stdout",
     "output_type": "stream",
     "text": [
      "dict_values(['valuue', 'kvsw', 441])\n"
     ]
    }
   ],
   "source": [
    "print(d.values())"
   ]
  },
  {
   "cell_type": "code",
   "execution_count": 12,
   "metadata": {},
   "outputs": [
    {
     "name": "stdout",
     "output_type": "stream",
     "text": [
      "{'key1': 'valuue', 'name': 'mounika', 'rollnumber': 441}\n"
     ]
    }
   ],
   "source": [
    "d[\"name\"]=\"mounika\"\n",
    "print(d)"
   ]
  },
  {
   "cell_type": "code",
   "execution_count": 14,
   "metadata": {},
   "outputs": [
    {
     "data": {
      "text/plain": [
       "441"
      ]
     },
     "execution_count": 14,
     "metadata": {},
     "output_type": "execute_result"
    }
   ],
   "source": [
    "d[\"rollnumber\"]"
   ]
  },
  {
   "cell_type": "code",
   "execution_count": 16,
   "metadata": {},
   "outputs": [
    {
     "data": {
      "text/plain": [
       "'mounika'"
      ]
     },
     "execution_count": 16,
     "metadata": {},
     "output_type": "execute_result"
    }
   ],
   "source": [
    "d[\"name\"]"
   ]
  },
  {
   "cell_type": "code",
   "execution_count": 17,
   "metadata": {},
   "outputs": [
    {
     "data": {
      "text/plain": [
       "'valuue'"
      ]
     },
     "execution_count": 17,
     "metadata": {},
     "output_type": "execute_result"
    }
   ],
   "source": [
    "d.pop(\"key1\")"
   ]
  },
  {
   "cell_type": "code",
   "execution_count": 18,
   "metadata": {},
   "outputs": [
    {
     "data": {
      "text/plain": [
       "{'name': 'mounika', 'rollnumber': 441}"
      ]
     },
     "execution_count": 18,
     "metadata": {},
     "output_type": "execute_result"
    }
   ],
   "source": [
    "d"
   ]
  },
  {
   "cell_type": "code",
   "execution_count": 20,
   "metadata": {},
   "outputs": [
    {
     "name": "stdout",
     "output_type": "stream",
     "text": [
      "{'name': 'mounika', 'rollnumber': 441, 'star': 'prabhas'}\n"
     ]
    }
   ],
   "source": [
    "d[\"star\"]=\"prabhas\"\n",
    "print(d)"
   ]
  },
  {
   "cell_type": "code",
   "execution_count": 21,
   "metadata": {},
   "outputs": [
    {
     "data": {
      "text/plain": [
       "dict_items([('name', 'mounika'), ('rollnumber', 441), ('star', 'prabhas')])"
      ]
     },
     "execution_count": 21,
     "metadata": {},
     "output_type": "execute_result"
    }
   ],
   "source": [
    "d.items()"
   ]
  },
  {
   "cell_type": "code",
   "execution_count": 23,
   "metadata": {},
   "outputs": [
    {
     "name": "stdout",
     "output_type": "stream",
     "text": [
      "dict_keys(['name', 'rollnumber', 'star'])\n",
      "{'name': 'mounika', 'rollnumber': 441, 'star': 'prabhas'}\n"
     ]
    }
   ],
   "source": [
    "print(d.keys())\n",
    "print(d)"
   ]
  },
  {
   "cell_type": "code",
   "execution_count": 36,
   "metadata": {},
   "outputs": [
    {
     "data": {
      "text/plain": [
       "dict_items([('name', 'mounika'), ('rollnumber', 441), ('star', 'prabhas')])"
      ]
     },
     "execution_count": 36,
     "metadata": {},
     "output_type": "execute_result"
    }
   ],
   "source": [
    "d.items()"
   ]
  },
  {
   "cell_type": "code",
   "execution_count": 39,
   "metadata": {},
   "outputs": [
    {
     "name": "stdout",
     "output_type": "stream",
     "text": [
      "('name', 'mounika')\n",
      "('rollnumber', 441)\n",
      "('star', 'prabhas')\n"
     ]
    }
   ],
   "source": [
    "for i in d.items():\n",
    "    print(i)"
   ]
  },
  {
   "cell_type": "code",
   "execution_count": 40,
   "metadata": {},
   "outputs": [
    {
     "name": "stdout",
     "output_type": "stream",
     "text": [
      "name\n",
      "rollnumber\n",
      "star\n"
     ]
    }
   ],
   "source": [
    "for i in d.keys():\n",
    "    print(i)"
   ]
  },
  {
   "cell_type": "code",
   "execution_count": 41,
   "metadata": {},
   "outputs": [
    {
     "name": "stdout",
     "output_type": "stream",
     "text": [
      "mounika\n",
      "441\n",
      "prabhas\n"
     ]
    }
   ],
   "source": [
    "for i in d.values():\n",
    "    print(i)"
   ]
  },
  {
   "cell_type": "code",
   "execution_count": 42,
   "metadata": {},
   "outputs": [
    {
     "name": "stdout",
     "output_type": "stream",
     "text": [
      "name\n",
      "rollnumber\n",
      "star\n"
     ]
    }
   ],
   "source": [
    "for i in d:\n",
    "    print(i)"
   ]
  },
  {
   "cell_type": "code",
   "execution_count": 46,
   "metadata": {},
   "outputs": [
    {
     "data": {
      "text/plain": [
       "'prabhas'"
      ]
     },
     "execution_count": 46,
     "metadata": {},
     "output_type": "execute_result"
    }
   ],
   "source": [
    "d.get(\"star\")\n",
    "\n"
   ]
  },
  {
   "cell_type": "code",
   "execution_count": 49,
   "metadata": {},
   "outputs": [
    {
     "data": {
      "text/plain": [
       "('star', 'prabhas')"
      ]
     },
     "execution_count": 49,
     "metadata": {},
     "output_type": "execute_result"
    }
   ],
   "source": [
    "d.popitem()"
   ]
  },
  {
   "cell_type": "code",
   "execution_count": 50,
   "metadata": {},
   "outputs": [
    {
     "data": {
      "text/plain": [
       "{'name': 'mounika', 'rollnumber': 441}"
      ]
     },
     "execution_count": 50,
     "metadata": {},
     "output_type": "execute_result"
    }
   ],
   "source": [
    "d"
   ]
  },
  {
   "cell_type": "code",
   "execution_count": 51,
   "metadata": {},
   "outputs": [
    {
     "name": "stdout",
     "output_type": "stream",
     "text": [
      "Help on method_descriptor:\n",
      "\n",
      "update(...)\n",
      "    D.update([E, ]**F) -> None.  Update D from dict/iterable E and F.\n",
      "    If E is present and has a .keys() method, then does:  for k in E: D[k] = E[k]\n",
      "    If E is present and lacks a .keys() method, then does:  for k, v in E: D[k] = v\n",
      "    In either case, this is followed by: for k in F:  D[k] = F[k]\n",
      "\n"
     ]
    }
   ],
   "source": [
    "help(dict.update)"
   ]
  },
  {
   "cell_type": "code",
   "execution_count": 53,
   "metadata": {},
   "outputs": [
    {
     "data": {
      "text/plain": [
       "'mounika'"
      ]
     },
     "execution_count": 53,
     "metadata": {},
     "output_type": "execute_result"
    }
   ],
   "source": [
    "d.setdefault(\"name\")\n"
   ]
  },
  {
   "cell_type": "code",
   "execution_count": 55,
   "metadata": {},
   "outputs": [
    {
     "data": {
      "text/plain": [
       "{'name': 'mounika', 'rollnumber': 441, 'k2': None}"
      ]
     },
     "execution_count": 55,
     "metadata": {},
     "output_type": "execute_result"
    }
   ],
   "source": [
    "d.setdefault(\"k2\")\n",
    "d"
   ]
  },
  {
   "cell_type": "code",
   "execution_count": 59,
   "metadata": {},
   "outputs": [
    {
     "data": {
      "text/plain": [
       "{'name': 'mounika', 'rollnumber': 441, 'k2': None}"
      ]
     },
     "execution_count": 59,
     "metadata": {},
     "output_type": "execute_result"
    }
   ],
   "source": [
    "x=d.copy()\n",
    "x"
   ]
  },
  {
   "cell_type": "code",
   "execution_count": 71,
   "metadata": {},
   "outputs": [
    {
     "name": "stdout",
     "output_type": "stream",
     "text": [
      "{'name': 'mounika', 'rollnumber': 441, 'branch': 'Ece'}\n",
      "{'name': 'mounika', 'rollnumber': 441, 'branch': 'Ece', 'add element': 'mstp level1'}\n",
      "{'name': 'mounika', 'rollnumber': 441, 'add element': 'mstp level1'}\n",
      "('name', 'mounika')\n",
      "('rollnumber', 441)\n",
      "('add element', 'mstp level1')\n",
      "{'name': 'mounika', 'rollnumber': 441, 'add element': 'mstp level1', 'branch': 'Ece'}\n"
     ]
    }
   ],
   "source": [
    "#Dict\n",
    "#add=print(\"adding elemnt\")\n",
    "#remove\n",
    "#combination of key and key value\n",
    "#update with new key\n",
    "d={\"name\":\"mounika\",\"rollnumber\":441,\"branch\":\"Ece\"}\n",
    "print(d)\n",
    "d[\"add element\"]=\"mstp level1\"\n",
    "print(d)\n",
    "d.pop(\"branch\")\n",
    "print(d)\n",
    "for j in d.items():\n",
    "    print(j)\n",
    "d.update({\"branch\":\"Ece\"}) \n",
    "print(d)"
   ]
  },
  {
   "cell_type": "code",
   "execution_count": 79,
   "metadata": {},
   "outputs": [
    {
     "name": "stdout",
     "output_type": "stream",
     "text": [
      "name:mouni\n",
      "rollno:441\n",
      "name:raji\n",
      "rollno:434\n",
      "name:kam\n",
      "rollno:404\n"
     ]
    }
   ],
   "source": [
    "k={\"mouni\":441,\"raji\":434,\"kam\":404}\n",
    "for i in k.items():\n",
    "    print(\"name:\"+i[0])\n",
    "    print(\"rollno\",i[1],sep=\":\")"
   ]
  },
  {
   "cell_type": "code",
   "execution_count": 80,
   "metadata": {},
   "outputs": [
    {
     "name": "stdout",
     "output_type": "stream",
     "text": [
      "['name', 'rollnumber', 'add element', 'branch']\n"
     ]
    }
   ],
   "source": [
    "print(list(d.keys()))"
   ]
  },
  {
   "cell_type": "code",
   "execution_count": 81,
   "metadata": {},
   "outputs": [
    {
     "name": "stdout",
     "output_type": "stream",
     "text": [
      "['mounika', 441, 'mstp level1', 'Ece']\n"
     ]
    }
   ],
   "source": [
    "print(list(d.values()))"
   ]
  },
  {
   "cell_type": "code",
   "execution_count": 97,
   "metadata": {},
   "outputs": [
    {
     "name": "stdout",
     "output_type": "stream",
     "text": [
      "1:1\n",
      "2:2\n",
      "3:1\n",
      "4:1\n",
      "5:1\n",
      "6:1\n",
      "7:2\n"
     ]
    }
   ],
   "source": [
    "#Frequency count\n",
    "l=[1,2,2,3,4,5,6,7,7]\n",
    "a=list(set(l))\n",
    "for i in a:\n",
    "    print(i,l.count(i),sep=\":\")\n",
    "   \n",
    "    "
   ]
  },
  {
   "cell_type": "code",
   "execution_count": 101,
   "metadata": {},
   "outputs": [
    {
     "name": "stdout",
     "output_type": "stream",
     "text": [
      "['e', 'g', 'l', 'o']\n",
      "e:1\n",
      "g:2\n",
      "l:1\n",
      "o:2\n"
     ]
    }
   ],
   "source": [
    "a=\"google\"\n",
    "n=list(set(a))\n",
    "n=sorted(n)\n",
    "print(n)\n",
    "for i in n:\n",
    "    print(i,a.count(i),sep=\":\")"
   ]
  },
  {
   "cell_type": "code",
   "execution_count": 104,
   "metadata": {},
   "outputs": [
    {
     "name": "stdout",
     "output_type": "stream",
     "text": [
      "{1: 1, 2: 4, 3: 9, 4: 16, 5: 25}\n"
     ]
    }
   ],
   "source": [
    "# Frequency count using dictionaries\n",
    "l=[1,2,2,3,4,4,4,5]\n",
    "b={}\n",
    "n=5\n",
    "for i in range(1,n+1):\n",
    "    b[i]=i**2\n",
    "print(b)    "
   ]
  },
  {
   "cell_type": "code",
   "execution_count": 107,
   "metadata": {},
   "outputs": [
    {
     "name": "stdout",
     "output_type": "stream",
     "text": [
      "{1: 1, 2: 1, 3: 1, 4: 2, 5: 3}\n"
     ]
    }
   ],
   "source": [
    "l=[1,2,3,4,4,5,5,5]\n",
    "k={}\n",
    "\n",
    "for i in l:\n",
    "    k[i]=l.count(i)\n",
    "print(k)\n",
    "\n",
    "    \n",
    "    \n",
    "    \n",
    "    "
   ]
  },
  {
   "cell_type": "code",
   "execution_count": 108,
   "metadata": {},
   "outputs": [
    {
     "name": "stdout",
     "output_type": "stream",
     "text": [
      "{'e': 3, 'n': 3, 'g': 2, 'i': 2, 'r': 1}\n"
     ]
    }
   ],
   "source": [
    "# Find the frequency of the string \"engineering\" using dictionaries\n",
    "a=\"engineering\"\n",
    "b={}\n",
    "for i in a:\n",
    "    b[i]=a.count(i)\n",
    "print(b)    "
   ]
  },
  {
   "cell_type": "code",
   "execution_count": 116,
   "metadata": {},
   "outputs": [
    {
     "name": "stdout",
     "output_type": "stream",
     "text": [
      "contact mouni already exists\n"
     ]
    }
   ],
   "source": [
    "## Contacts application using dictionaries\n",
    "## Add contact\n",
    "contact={\"mouni\":9346565402,\"dad\":9177729391,\"manu\":8142201819}\n",
    "def addcontact(name,no):\n",
    "    if name not in contact:\n",
    "        contact[name]=no\n",
    "    else:\n",
    "        print(\"contact %s already exists\"% name)\n",
    "addcontact(\"mouni\",9949827190) \n"
   ]
  },
  {
   "cell_type": "code",
   "execution_count": 121,
   "metadata": {},
   "outputs": [
    {
     "name": "stdout",
     "output_type": "stream",
     "text": [
      "contact dad doesnot exists\n"
     ]
    }
   ],
   "source": [
    "## Search contact\n",
    "contact={\"mouni\":9346565402,\"dad\":9177729391,\"manu\":8142201819}\n",
    "def searchcontact(name):\n",
    "    if name not in contact:\n",
    "        print(name,\":\",contact[name])\n",
    "    else:\n",
    "        print(\"contact %s doesnot exists\"%name)\n",
    "searchcontact(\"dad\")        \n"
   ]
  },
  {
   "cell_type": "code",
   "execution_count": 123,
   "metadata": {},
   "outputs": [
    {
     "name": "stdout",
     "output_type": "stream",
     "text": [
      "name:mouni\n",
      "contact::9346565402\n",
      "name:dad\n",
      "contact::9177729391\n",
      "name:manu\n",
      "contact::8142201819\n"
     ]
    }
   ],
   "source": [
    "contact={\"mouni\":9346565402,\"dad\":9177729391,\"manu\":8142201819}\n",
    "for i in contact.items():\n",
    "    print(\"name:\"+i[0])\n",
    "    print(\"contact:\",i[1],sep=\":\")"
   ]
  },
  {
   "cell_type": "code",
   "execution_count": 125,
   "metadata": {},
   "outputs": [
    {
     "name": "stdout",
     "output_type": "stream",
     "text": [
      "name:mouni\n",
      "contact:9346565402\n",
      "name:dad\n",
      "contact:9177729391\n",
      "name:manu\n",
      "contact:8142201819\n"
     ]
    }
   ],
   "source": [
    "##List of contacts\n",
    "#contact={\"mouni\":9346565402,\"dad\":9177729391,\"manu\":8142201819}\n",
    "def listcontacts():\n",
    "    for i in contact.items():\n",
    "        print(\"name:\"+i[0])\n",
    "        print(\"contact:\"+str(i[1]))\n",
    "listcontacts()        "
   ]
  },
  {
   "cell_type": "code",
   "execution_count": 128,
   "metadata": {},
   "outputs": [
    {
     "name": "stdout",
     "output_type": "stream",
     "text": [
      "contact does not exists\n"
     ]
    }
   ],
   "source": [
    "def deletecontact(name):\n",
    "    if name in contact:\n",
    "        contact.pop(name)\n",
    "    else:\n",
    "        print(\"contact does not exists\")\n",
    "deletecontact(\"manu\")        "
   ]
  },
  {
   "cell_type": "code",
   "execution_count": 129,
   "metadata": {},
   "outputs": [
    {
     "data": {
      "text/plain": [
       "{'mouni': 9346565402, 'dad': 9177729391}"
      ]
     },
     "execution_count": 129,
     "metadata": {},
     "output_type": "execute_result"
    }
   ],
   "source": [
    "contact\n"
   ]
  },
  {
   "cell_type": "code",
   "execution_count": 131,
   "metadata": {},
   "outputs": [],
   "source": [
    "##modifycontact\n",
    "def modifycontact(name,no):\n",
    "    if name in contact:\n",
    "        contact[name]=no\n",
    "    else:\n",
    "        print(\"contact doesnot exist\")\n",
    "modifycontact(\"dad\",8142201819)        "
   ]
  },
  {
   "cell_type": "code",
   "execution_count": 132,
   "metadata": {},
   "outputs": [
    {
     "data": {
      "text/plain": [
       "{'mouni': 9346565402, 'dad': 8142201819}"
      ]
     },
     "execution_count": 132,
     "metadata": {},
     "output_type": "execute_result"
    }
   ],
   "source": [
    "contact"
   ]
  },
  {
   "cell_type": "code",
   "execution_count": null,
   "metadata": {},
   "outputs": [],
   "source": []
  }
 ],
 "metadata": {
  "kernelspec": {
   "display_name": "Python 3",
   "language": "python",
   "name": "python3"
  },
  "language_info": {
   "codemirror_mode": {
    "name": "ipython",
    "version": 3
   },
   "file_extension": ".py",
   "mimetype": "text/x-python",
   "name": "python",
   "nbconvert_exporter": "python",
   "pygments_lexer": "ipython3",
   "version": "3.7.3"
  }
 },
 "nbformat": 4,
 "nbformat_minor": 2
}
