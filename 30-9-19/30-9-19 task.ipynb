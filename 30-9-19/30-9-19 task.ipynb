{
 "cells": [
  {
   "cell_type": "code",
   "execution_count": 17,
   "metadata": {},
   "outputs": [
    {
     "name": "stdout",
     "output_type": "stream",
     "text": [
      "[1, 4, 9, 16, 25, 36, 49, 64, 81, 100, 121, 144, 169, 196, 225]\n",
      "{1: 1, 2: 4, 3: 9, 4: 16, 5: 25, 6: 36, 7: 49, 8: 64, 9: 81, 10: 100, 11: 121, 12: 144, 13: 169, 14: 196, 15: 225}\n"
     ]
    }
   ],
   "source": [
    "#1.Write a Python program to generate and print a list and a dictionary of square of numbers between 1 and 15 (both included)\n",
    "d={}\n",
    "l=[]\n",
    "for i in range(1,16):\n",
    "    d[i]=i**2\n",
    "    l.append(i**2)\n",
    "print(l)    \n",
    "print(d)    \n"
   ]
  },
  {
   "cell_type": "code",
   "execution_count": 8,
   "metadata": {},
   "outputs": [
    {
     "name": "stdout",
     "output_type": "stream",
     "text": [
      "[1, 2, 3, 4, 5, 6, 7, 8, 9, 10]\n"
     ]
    }
   ],
   "source": [
    "#2.Take 10 integer inputs from user and store them in a list and print them on screen.\n",
    "a=[]\n",
    "for i in range(1,11):\n",
    "    a.append(i)\n",
    "print(a)"
   ]
  },
  {
   "cell_type": "code",
   "execution_count": 21,
   "metadata": {},
   "outputs": [
    {
     "name": "stdout",
     "output_type": "stream",
     "text": [
      "[2, 4] "
     ]
    }
   ],
   "source": [
    "#3.l=[1,5,7,3,2,4,5,9],print list of all even numbers from the given list \n",
    "l=[1,5,7,2,4,5,9]\n",
    "x=[]\n",
    "for j in range(len(l)):\n",
    "    if(l[j]%2==0):\n",
    "        x.append(l[j])\n",
    "print(x,end=\" \")        \n",
    "            "
   ]
  },
  {
   "cell_type": "code",
   "execution_count": 2,
   "metadata": {},
   "outputs": [
    {
     "name": "stdout",
     "output_type": "stream",
     "text": [
      "10\n",
      "mouni\n",
      "45\n",
      "raji\n",
      "40\n",
      "kam\n",
      "50\n",
      "mouni\n",
      "60\n",
      "lucky\n",
      "60\n",
      "vasu\n",
      "70\n",
      "kethu\n",
      "30\n",
      "anu\n",
      "10\n",
      "shabbu\n",
      "80\n",
      "madhu\n",
      "20\n",
      "{'mouni': 60, 'raji': 40, 'kam': 50, 'lucky': 60, 'vasu': 70, 'kethu': 30, 'anu': 10, 'shabbu': 80, 'madhu': 20}\n"
     ]
    }
   ],
   "source": [
    "#5.Ask user to give name and marks of 10 different students. Store them in dictionary.\n",
    "d={}\n",
    "a=int(input())\n",
    "for i in range(1,a+1):\n",
    "    a=input()\n",
    "    b=int(input())\n",
    "    d[a]=b\n",
    "print(d)    \n",
    "\n",
    "    \n"
   ]
  },
  {
   "cell_type": "code",
   "execution_count": 22,
   "metadata": {},
   "outputs": [
    {
     "name": "stdout",
     "output_type": "stream",
     "text": [
      "-2\n",
      "4\n",
      "3\n",
      "11\n",
      "12\n",
      "-6\n",
      "-8\n",
      "19\n",
      "11\n",
      "8\n",
      "{'p': 7, 'n': 3, 'e': 6, 'o': 4, 'z': 0}\n"
     ]
    }
   ],
   "source": [
    "#4.Take 10 integer inputs from user and print the following:\n",
    "#number of positive numbers\n",
    "#number of negative numbers\n",
    "#number of odd numbers\n",
    "#number of even numbers\n",
    "#number of 0s.using dictionaries\n",
    "#a=[10,20,-5,-6,3,4,0,0,-2,8]\n",
    "#d={p:5,n:3,e:6,odd:2,0:2}\n",
    "l=[]\n",
    "for i in range(1,11):\n",
    "    a=int(input())\n",
    "    l.append(a)\n",
    "d={'p':0,'n':0,'e':0,'o':0,'z':0}    \n",
    "for j in l:\n",
    "    if j>0:\n",
    "        d['p']+=1\n",
    "        if j%2==0:\n",
    "            d['e']+=1\n",
    "        else:\n",
    "            d['o']+=1\n",
    "    elif j<0:\n",
    "        d['n']+=1\n",
    "        if j%2==0:\n",
    "            d['e']+=1\n",
    "        else:\n",
    "            d['o']+=1\n",
    "    elif j==0:\n",
    "        d['z']+=1      \n",
    "print(d)\n",
    "        "
   ]
  },
  {
   "cell_type": "code",
   "execution_count": 4,
   "metadata": {},
   "outputs": [
    {
     "name": "stdout",
     "output_type": "stream",
     "text": [
      "{'S': 4, 'I': 3, 'M': 1, 'P': 2}\n"
     ]
    }
   ],
   "source": [
    "#8.Count the number of occurrence of each letter in word \"MISSISSIPPI\". Store count of every letter with the letter in a d\n",
    "a=\"MISSISSPPI\"\n",
    "b=list(set(a))\n",
    "c={}\n",
    "for i in b:\n",
    "    c[i]=a.count(i)\n",
    "print(c)    "
   ]
  },
  {
   "cell_type": "code",
   "execution_count": 3,
   "metadata": {},
   "outputs": [
    {
     "name": "stdout",
     "output_type": "stream",
     "text": [
      "['I', 'M', 'P', 'S', 's']\n",
      "{'I': 3, 'M': 1, 'P': 2, 'S': 2, 's': 2}\n"
     ]
    }
   ],
   "source": [
    "#9.From the previous question, sort according to the number of letters.\n",
    "a=\"MIssISSPPI\"\n",
    "b=list(set(a))\n",
    "b=sorted(b)\n",
    "print(b)\n",
    "c={}\n",
    "for i in b:\n",
    "    c[i]=a.count(i)\n",
    "print(c)    \n",
    "\n",
    "  "
   ]
  },
  {
   "cell_type": "code",
   "execution_count": 7,
   "metadata": {},
   "outputs": [
    {
     "name": "stdout",
     "output_type": "stream",
     "text": [
      "3\n",
      "50\n",
      "x\n",
      "40\n",
      "y\n",
      "30\n",
      "z\n",
      "{50: 'x', 40: 'y', 30: 'z'}\n",
      "[30, 40, 50]\n",
      "30 : z\n",
      "40 : y\n",
      "50 : x\n"
     ]
    }
   ],
   "source": [
    "#6.Sort the dictionary created in previous example according to marks. \n",
    "d={}\n",
    "a=int(input())\n",
    "for i in range(1,a+1):\n",
    "    a=int(input())\n",
    "    b=input()\n",
    "    d[a]=b\n",
    "print(d)    \n",
    "m=sorted(d.keys())\n",
    "print(m)\n",
    "for i in m:\n",
    "    print(i,\":\",d[i])"
   ]
  },
  {
   "cell_type": "code",
   "execution_count": 14,
   "metadata": {},
   "outputs": [
    {
     "name": "stdout",
     "output_type": "stream",
     "text": [
      "top\n",
      "down\n"
     ]
    }
   ],
   "source": [
    "#7.Use dictionary to store antonyms of words. \n",
    "#E.g.- 'Right':'Left', 'Up':'Down', etc. Display all words and then ask user to enter a word and display antonym of it.\n",
    "h={\"right\":\"left\",\"top\":\"down\",\"push\":\"pop\"}\n",
    "#for i in (h.keys()):\n",
    "   # print(i)\n",
    "n=input()    \n",
    "print(h.get(n))\n"
   ]
  },
  {
   "cell_type": "code",
   "execution_count": null,
   "metadata": {},
   "outputs": [],
   "source": []
  }
 ],
 "metadata": {
  "kernelspec": {
   "display_name": "Python 3",
   "language": "python",
   "name": "python3"
  }
 },
 "nbformat": 4,
 "nbformat_minor": 2
}
