{
 "cells": [
  {
   "cell_type": "code",
   "execution_count": 3,
   "metadata": {},
   "outputs": [
    {
     "name": "stdout",
     "output_type": "stream",
     "text": [
      "20\n",
      "50\n",
      "23 ,29 ,31 ,37 ,41 ,43 ,47 ,"
     ]
    }
   ],
   "source": [
    "#Function to generate all the prime number in a given range\n",
    "def prime(lb):\n",
    "    count=0\n",
    "    for i in range(1,lb+1):\n",
    "        if lb%i==0:\n",
    "            count=count+1\n",
    "    if count==2:\n",
    "        print(i,end=\" ,\")\n",
    "lb=int(input())\n",
    "ub=int(input())\n",
    "for j in range(lb,ub+1):\n",
    "    prime(j)\n",
    "            "
   ]
  },
  {
   "cell_type": "code",
   "execution_count": 1,
   "metadata": {},
   "outputs": [
    {
     "name": "stdout",
     "output_type": "stream",
     "text": [
      "30\n",
      "40\n",
      "31 37 "
     ]
    }
   ],
   "source": [
    "def prime(lb):\n",
    "    count=0\n",
    "    for i in range(1,lb+1):\n",
    "        if lb%i==0:\n",
    "            count=count+1\n",
    "    if count==2:\n",
    "        return 1\n",
    "    else:\n",
    "        return 0\n",
    "lb=int(input())\n",
    "ub=int(input())\n",
    "for j in range(lb,ub+1):\n",
    "     if  prime(j)==1:\n",
    "            print(j,end=' ')"
   ]
  },
  {
   "cell_type": "code",
   "execution_count": 16,
   "metadata": {},
   "outputs": [
    {
     "name": "stdout",
     "output_type": "stream",
     "text": [
      "1\n",
      "10\n",
      "2 4 6 8 "
     ]
    }
   ],
   "source": [
    "#print all even no in range\n",
    "def even(n):\n",
    "        if(n%2==0):\n",
    "            print(n,end=' ')\n",
    "lb=int(input())\n",
    "ub=int(input())\n",
    "for j in range(lb,ub):\n",
    "    even(j)    \n",
    "    \n",
    "    \n",
    "\n",
    "            "
   ]
  },
  {
   "cell_type": "code",
   "execution_count": 18,
   "metadata": {},
   "outputs": [
    {
     "name": "stdout",
     "output_type": "stream",
     "text": [
      "3\n",
      "50\n",
      "6\n",
      "12\n",
      "18\n",
      "24\n",
      "30\n",
      "36\n",
      "42\n",
      "48\n"
     ]
    }
   ],
   "source": [
    "#All number is divisible by 6 and not a factor of 100 in a given range(lb,ub)inclusive\n",
    "def divisible(lb):\n",
    "    if(lb%6==0 and lb%100!=0):\n",
    "        print(lb)\n",
    "lb=int(input())\n",
    "ub=int(input())\n",
    "for j in range(lb,ub+1):\n",
    "    divisible(j)"
   ]
  },
  {
   "cell_type": "code",
   "execution_count": 21,
   "metadata": {},
   "outputs": [
    {
     "name": "stdout",
     "output_type": "stream",
     "text": [
      "153\n",
      "153\n",
      "armstrong\n"
     ]
    }
   ],
   "source": [
    "#Armstrong number\n",
    "def armstrong(n):\n",
    "    s=0\n",
    "    y=n\n",
    "    for i in range(1,n+1):\n",
    "        a=n%10\n",
    "        s=s+a**3\n",
    "        n=n//10\n",
    "    print(s)\n",
    "    if(s==y):\n",
    "        print(\"armstrong\")\n",
    "    else:\n",
    "        print(\"not armstrong\")\n",
    "n=int(input())\n",
    "armstrong(n)\n",
    "    "
   ]
  },
  {
   "cell_type": "code",
   "execution_count": 2,
   "metadata": {},
   "outputs": [
    {
     "name": "stdout",
     "output_type": "stream",
     "text": [
      "153\n",
      "153\n",
      "armstrong 153\n",
      "odd\n"
     ]
    }
   ],
   "source": [
    "\n",
    "#Armstrong number\n",
    "def armstrong(n):\n",
    "    s=0\n",
    "    y=n\n",
    "    for i in range(1,n+1):\n",
    "        a=n%10\n",
    "        s=s+a**3\n",
    "        n=n//10\n",
    "    print(s)\n",
    "    if(s==y):\n",
    "        print(\"armstrong\",s)\n",
    "    if(s%2!=0):\n",
    "        print(\"odd\")\n",
    "n=int(input())\n",
    "armstrong(n)\n",
    "    "
   ]
  },
  {
   "cell_type": "code",
   "execution_count": 9,
   "metadata": {},
   "outputs": [
    {
     "name": "stdout",
     "output_type": "stream",
     "text": [
      "1\n",
      "30\n",
      "34\n"
     ]
    }
   ],
   "source": [
    "#program to print all the sum of perfect number in a given range\n",
    "def perfect(n):\n",
    "    s=0\n",
    "    for i in range(1,n):\n",
    "        if(n%i==0):\n",
    "            s=s+i\n",
    "    if(s==n):\n",
    "        return 1\n",
    "    else:\n",
    "        return 0\n",
    "lb=int(input())\n",
    "ub=int(input())\n",
    "s1=0\n",
    "for j in range(lb,ub+1):\n",
    "    if perfect(j)==1:\n",
    "        s1=s1+j\n",
    "print(s1)        "
   ]
  },
  {
   "cell_type": "code",
   "execution_count": null,
   "metadata": {},
   "outputs": [],
   "source": []
  }
 ],
 "metadata": {
  "kernelspec": {
   "display_name": "Python 3",
   "language": "python",
   "name": "python3"
  }
 },
 "nbformat": 4,
 "nbformat_minor": 2
}
