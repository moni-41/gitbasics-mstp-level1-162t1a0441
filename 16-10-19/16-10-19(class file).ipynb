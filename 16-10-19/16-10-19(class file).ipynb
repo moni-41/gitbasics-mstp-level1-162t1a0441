{
 "cells": [
  {
   "cell_type": "markdown",
   "metadata": {},
   "source": [
    "## Handling CSV files"
   ]
  },
  {
   "cell_type": "code",
   "execution_count": 37,
   "metadata": {},
   "outputs": [],
   "source": [
    "file=\"mstp.txt\"\n",
    "def name(file):\n",
    "    with open (file,'w')as f:\n",
    "        f.write(\"kvsw\"+\",\"+\"kvsr\"+\",\"+\"kvsm\")\n",
    "name(file)        "
   ]
  },
  {
   "cell_type": "code",
   "execution_count": 38,
   "metadata": {},
   "outputs": [],
   "source": [
    "file=\"mstp.txt\"\n",
    "def name(file):\n",
    "    with open (file,'a')as f:\n",
    "        f.write(\"\\n\"+\"ece\"+\",\"+\"cse\"+\",\"+\"eee\")\n",
    "name(file)    "
   ]
  },
  {
   "cell_type": "code",
   "execution_count": 39,
   "metadata": {},
   "outputs": [],
   "source": [
    "s=\"\\n,mcjdscbjcn\"\n",
    "with open(file,'a')as f:\n",
    "    f.write(s)"
   ]
  },
  {
   "cell_type": "code",
   "execution_count": 40,
   "metadata": {},
   "outputs": [
    {
     "name": "stdout",
     "output_type": "stream",
     "text": [
      "kvsw,kvsr,kvsm\n",
      "ece,cse,eee\n",
      ",mcjdscbjcn\n"
     ]
    }
   ],
   "source": [
    "with open(file,'r')as f:\n",
    "    s=f.read()\n",
    "    print(s)"
   ]
  },
  {
   "cell_type": "code",
   "execution_count": 41,
   "metadata": {},
   "outputs": [
    {
     "name": "stdout",
     "output_type": "stream",
     "text": [
      "['kvsw,kvsr,kvsm\\n', 'ece,cse,eee\\n', ',mcjdscbjcn']\n"
     ]
    }
   ],
   "source": [
    "with open(file,'r')as f:\n",
    "    s=f.readlines()\n",
    "    print(s)"
   ]
  },
  {
   "cell_type": "code",
   "execution_count": 42,
   "metadata": {},
   "outputs": [
    {
     "name": "stdout",
     "output_type": "stream",
     "text": [
      "kvsw,kvsr,kvsm\n",
      "\n"
     ]
    }
   ],
   "source": [
    "with open(file,'r')as f:\n",
    "    s=f.readlines()\n",
    "    print(s[0])"
   ]
  },
  {
   "cell_type": "code",
   "execution_count": 43,
   "metadata": {},
   "outputs": [],
   "source": [
    "file=\"contact.txt\"\n",
    "with open(file,'a')as f:\n",
    "    f.write(\"name\"+\",\"+\"9346565402\"+\",\"+\"mounikagangana06@gmail.com\")\n",
    "    f.write(\"\\nname1\"+\",\"+\"9346565402\"+\",\"+\"mounikagangana06@gmail.com\")"
   ]
  },
  {
   "cell_type": "code",
   "execution_count": 15,
   "metadata": {},
   "outputs": [
    {
     "name": "stdout",
     "output_type": "stream",
     "text": [
      "['name,9346565402,mounikagangana06@gmail.comname,9346565402,mounikagangana06@gmail.comname1,9346565402,mounikagangana06@gmail.comname,9346565402,mounikagangana06@gmail.com\\n', 'name1,9346565402,mounikagangana06@gmail.com']\n",
      "name1,9346565402,mounikagangana06@gmail.com\n"
     ]
    }
   ],
   "source": [
    "file=\"contact.txt\"\n",
    "def csvtolist(file):\n",
    "    with open(file,'r')as f:\n",
    "        s=f.readlines()\n",
    "        print(s)\n",
    "        print(s[1])\n",
    "csvtolist(file)\n"
   ]
  },
  {
   "cell_type": "code",
   "execution_count": 44,
   "metadata": {},
   "outputs": [],
   "source": [
    "file=\"contacts.txt\"\n",
    "with open(file,'a')as f:\n",
    "    f.write(\"name\"+\",\"+\"9346565402\"+\",\"+\"mounikagangana06@gmail.com\")\n",
    "    f.write(\"\\nname1\"+\",\"+\"9346565402\"+\",\"+\"mounikagangana06@gmail.com\")"
   ]
  },
  {
   "cell_type": "code",
   "execution_count": 17,
   "metadata": {},
   "outputs": [
    {
     "name": "stdout",
     "output_type": "stream",
     "text": [
      "['name,9346565402,mounikagangana06@gmail.com\\n', 'name1,9346565402,mounikagangana06@gmail.com']\n",
      "name1,9346565402,mounikagangana06@gmail.com\n"
     ]
    }
   ],
   "source": [
    "file=\"contacts.txt\"\n",
    "def csvtolist(file):\n",
    "    with open(file,'r')as f:\n",
    "        s=f.readlines()\n",
    "        print(s)\n",
    "        print(s[1])\n",
    "csvtolist(file)\n"
   ]
  },
  {
   "cell_type": "code",
   "execution_count": 45,
   "metadata": {},
   "outputs": [
    {
     "name": "stdout",
     "output_type": "stream",
     "text": [
      "[['name', '9346565402', 'mounikagangana06@gmail.com\\n'], ['name1', '9346565402', 'mounikagangana06@gmail.com\\n'], ['mounika', '9346565402', 'mounikagangan06@gmail.comname', '9346565402', 'mounikagangana06@gmail.com\\n'], ['name1', '9346565402', 'mounikagangana06@gmail.com']]\n",
      "9346565402\n",
      "mounikagangana06@gmail.com\n",
      "\n"
     ]
    }
   ],
   "source": [
    "file=\"contacts.txt\"\n",
    "def csvtolist(file):\n",
    "    l=[]\n",
    "    with open(file,'r')as f:\n",
    "        for line in f:\n",
    "            l.append(line.split(\",\"))\n",
    "        print(l)\n",
    "        print(l[0][1])\n",
    "        print(l[0][2])\n",
    "csvtolist(file)\n"
   ]
  },
  {
   "cell_type": "code",
   "execution_count": 46,
   "metadata": {},
   "outputs": [
    {
     "name": "stdout",
     "output_type": "stream",
     "text": [
      "name,9346565402,mounikagangana06@gmail.com\n",
      "name1,9346565402,mounikagangana06@gmail.com\n",
      "mounika,9346565402,mounikagangan06@gmail.comname,9346565402,mounikagangana06@gmail.com\n",
      "name1,9346565402,mounikagangana06@gmail.com\n"
     ]
    }
   ],
   "source": [
    "file=\"contacts.txt\"\n",
    "def csvtolist(file):\n",
    "    l=[]\n",
    "    with open(file,'r')as f:\n",
    "        for line in f:\n",
    "            l.append(line.split(\",\"))\n",
    "    return l   \n",
    "csvtolist(file)\n",
    "def listocsv(file):\n",
    "    d=csvtolist(file)\n",
    "    s=\"\"\n",
    "    for i in d:\n",
    "        s+=\",\".join(i)\n",
    "    print(s)\n",
    "listocsv(file)    "
   ]
  },
  {
   "cell_type": "code",
   "execution_count": 47,
   "metadata": {},
   "outputs": [
    {
     "name": "stdout",
     "output_type": "stream",
     "text": [
      "1\n",
      "1\n"
     ]
    }
   ],
   "source": [
    "import re\n",
    "def phoneno(no):\n",
    "    pattern=\"^[6-9][0-9]{9}$|^[+][9][1][6789][0-9]{9}$\"\n",
    "    if re.match(pattern,str(no)):\n",
    "        return 1\n",
    "    else:\n",
    "        return 0\n",
    "print(phoneno(\"9346565402\"))\n",
    "print(phoneno(\"+919346565402\"))"
   ]
  },
  {
   "cell_type": "code",
   "execution_count": 48,
   "metadata": {},
   "outputs": [
    {
     "name": "stdout",
     "output_type": "stream",
     "text": [
      "[['name', '9346565402', 'mounikagangana06@gmail.com\\n'], ['name1', '9346565402', 'mounikagangana06@gmail.com\\n'], ['mounika', '9346565402', 'mounikagangan06@gmail.comname', '9346565402', 'mounikagangana06@gmail.com\\n'], ['name1', '9346565402', 'mounikagangana06@gmail.com']]\n",
      "[['name', '9346565402', 'mounikagangana06@gmail.com\\n'], ['name1', '9346565402', 'mounikagangana06@gmail.com\\n'], ['mounika', '9346565402', 'mounikagangan06@gmail.comname', '9346565402', 'mounikagangana06@gmail.com\\n'], ['name1', '9346565402', 'mounikagangana06@gmail.com']]\n",
      "contact already exist\n"
     ]
    }
   ],
   "source": [
    "import re\n",
    "def phoneno(no):\n",
    "    pattern=\"^[6-9][0-9]{9}$|^[+][9][1][6789][0-9]{9}$\"\n",
    "    if re.match(pattern,str(no)):\n",
    "        return 1\n",
    "    else:\n",
    "        return 0\n",
    "    \n",
    "def emailval(email):\n",
    "    pattern='^([0-9]|[a-z]|[A-Z])([0-9]|[a-z]|[A-Z]|[_]){6,14}([0-9]|[a-z])@[a-z]{2,10}[.][a-z]{2,4}$'\n",
    "    if re.match(pattern,email):\n",
    "        return 1\n",
    "    else:\n",
    "        return 0\n",
    "def searchcontact(name,file):\n",
    "    s=csvtolist(file)\n",
    "    print(s)\n",
    "    for i in s:\n",
    "        if i[0]==name:\n",
    "            return 1\n",
    "    return 0\n",
    "searchcontact(\"name\",\"contacts.txt\")\n",
    "def addcontact(name,no,email,file):\n",
    "    if searchcontact(name,file)==0:\n",
    "        if phoneno(no)==1:\n",
    "            print(\"phone no sucess\")\n",
    "            if emailval(email)==1:\n",
    "                print(\"email sucess\")\n",
    "                with open (file,'a')as f:\n",
    "                    f.write(\"\\n\"+name+\",\"+no+\",\"+email)\n",
    "                    print(\"contact add successfully\")\n",
    "    else:\n",
    "        print(\"contact already exist\")\n",
    "addcontact(\"mounika\",\"9346565402\",\"mounikagangan06@gmail.com\",\"contacts.txt\")        \n",
    "\n",
    "\n",
    "   \n"
   ]
  },
  {
   "cell_type": "markdown",
   "metadata": {},
   "source": [
    "## Modify contact"
   ]
  },
  {
   "cell_type": "code",
   "execution_count": null,
   "metadata": {},
   "outputs": [],
   "source": [
    "def modifycontact(name,num):\n",
    "    if name in contact:\n",
    "        contact[name]=num\n",
    "    else:\n",
    "        \n"
   ]
  },
  {
   "cell_type": "markdown",
   "metadata": {},
   "source": [
    "## Functional programing\n"
   ]
  },
  {
   "cell_type": "code",
   "execution_count": 5,
   "metadata": {},
   "outputs": [],
   "source": [
    "#Ex procedure-c\n",
    "# scripting-php,java,python,shell\n"
   ]
  },
  {
   "cell_type": "markdown",
   "metadata": {},
   "source": [
    "## list or dictonaries or tuples or sets comphrehensions"
   ]
  },
  {
   "cell_type": "code",
   "execution_count": 2,
   "metadata": {},
   "outputs": [
    {
     "name": "stdout",
     "output_type": "stream",
     "text": [
      "10\n",
      "1 2 3 4 5 6 7 8 9 10 "
     ]
    }
   ],
   "source": [
    "#print n natural numbers \n",
    "n=int(input())\n",
    "for i in range (1,n+1):\n",
    "    print(i,end=\" \")"
   ]
  },
  {
   "cell_type": "code",
   "execution_count": 3,
   "metadata": {},
   "outputs": [],
   "source": [
    "# List comprehension\n",
    "#==>expresston for list in item condition"
   ]
  },
  {
   "cell_type": "code",
   "execution_count": 4,
   "metadata": {},
   "outputs": [
    {
     "name": "stdout",
     "output_type": "stream",
     "text": [
      "10\n"
     ]
    },
    {
     "data": {
      "text/plain": [
       "[1, 2, 3, 4, 5, 6, 7, 8, 9, 10]"
      ]
     },
     "execution_count": 4,
     "metadata": {},
     "output_type": "execute_result"
    }
   ],
   "source": [
    "n=int(input())\n",
    "li=[i for i in range(1,n+1)]\n",
    "li"
   ]
  },
  {
   "cell_type": "code",
   "execution_count": 7,
   "metadata": {},
   "outputs": [
    {
     "name": "stdout",
     "output_type": "stream",
     "text": [
      "a\n",
      "p\n",
      "s\n",
      "s\n",
      "d\n",
      "c\n"
     ]
    }
   ],
   "source": [
    "x=\"apssdc\"\n",
    "for i in x:\n",
    "    print(i)"
   ]
  },
  {
   "cell_type": "code",
   "execution_count": 8,
   "metadata": {},
   "outputs": [
    {
     "data": {
      "text/plain": [
       "'GOOGLE.COM'"
      ]
     },
     "execution_count": 8,
     "metadata": {},
     "output_type": "execute_result"
    }
   ],
   "source": [
    "s=\"google.com\"\n",
    "a=s.upper()\n",
    "a"
   ]
  },
  {
   "cell_type": "code",
   "execution_count": 9,
   "metadata": {},
   "outputs": [
    {
     "data": {
      "text/plain": [
       "['g', 'o', 'o', 'g', 'l', 'e', '.', 'c', 'o', 'm']"
      ]
     },
     "execution_count": 9,
     "metadata": {},
     "output_type": "execute_result"
    }
   ],
   "source": [
    "l=[i for i in s]\n",
    "l"
   ]
  },
  {
   "cell_type": "code",
   "execution_count": 10,
   "metadata": {},
   "outputs": [
    {
     "name": "stdout",
     "output_type": "stream",
     "text": [
      "1 2 3 "
     ]
    }
   ],
   "source": [
    "x=\"123abc\"\n",
    "for i in x:\n",
    "    if i.isdigit():\n",
    "        print(i,end=\" \")\n"
   ]
  },
  {
   "cell_type": "code",
   "execution_count": 11,
   "metadata": {},
   "outputs": [
    {
     "name": "stdout",
     "output_type": "stream",
     "text": [
      "a b c "
     ]
    }
   ],
   "source": [
    "x=\"123abc\"\n",
    "for i in x:\n",
    "    if i.isalpha():\n",
    "        print(i,end=\" \")\n"
   ]
  },
  {
   "cell_type": "code",
   "execution_count": 12,
   "metadata": {},
   "outputs": [
    {
     "name": "stdout",
     "output_type": "stream",
     "text": [
      "['a', 'b', 'c']\n",
      "['1', '2', '3']\n"
     ]
    }
   ],
   "source": [
    "ls=[n for n in x if n.isalpha()]\n",
    "l=[n for n in x if n.isdigit()]\n",
    "print(ls)\n",
    "print(l)"
   ]
  },
  {
   "cell_type": "code",
   "execution_count": 20,
   "metadata": {},
   "outputs": [
    {
     "name": "stdout",
     "output_type": "stream",
     "text": [
      "5\n",
      "1.0\n",
      "1.4142135623730951\n",
      "1.7320508075688772\n",
      "2.0\n",
      "2.23606797749979\n"
     ]
    }
   ],
   "source": [
    "#print the first 10 numbers sqrt values in a list\n",
    "n=int(input())\n",
    "for i in range(1,n+1):\n",
    "    a=i**(1/2)\n",
    "    print(a)\n",
    "        \n",
    "\n",
    "    \n",
    "    \n"
   ]
  },
  {
   "cell_type": "code",
   "execution_count": 21,
   "metadata": {},
   "outputs": [
    {
     "data": {
      "text/plain": [
       "[1.0, 1.4142135623730951, 1.7320508075688772, 2.0, 2.23606797749979]"
      ]
     },
     "execution_count": 21,
     "metadata": {},
     "output_type": "execute_result"
    }
   ],
   "source": [
    "import math \n",
    "n=5\n",
    "l=[]\n",
    "for i in range(1,n+1):\n",
    "    l.append(math.sqrt(i))\n",
    "l    "
   ]
  },
  {
   "cell_type": "code",
   "execution_count": 23,
   "metadata": {},
   "outputs": [
    {
     "name": "stdout",
     "output_type": "stream",
     "text": [
      "20\n",
      "21\n",
      "22\n",
      "23\n",
      "24\n",
      "25\n",
      "26\n",
      "27\n",
      "28\n",
      "29\n"
     ]
    }
   ],
   "source": [
    "#double of value\n",
    "a=1\n",
    "for i in range(20,30):\n",
    "    print(i*a)\n"
   ]
  },
  {
   "cell_type": "code",
   "execution_count": 25,
   "metadata": {},
   "outputs": [
    {
     "data": {
      "text/plain": [
       "[441, 484, 529, 576, 625, 676, 729, 784, 841, 900]"
      ]
     },
     "execution_count": 25,
     "metadata": {},
     "output_type": "execute_result"
    }
   ],
   "source": [
    "ls=[i*i for i in range(21,31)]\n",
    "ls"
   ]
  },
  {
   "cell_type": "code",
   "execution_count": 29,
   "metadata": {},
   "outputs": [
    {
     "data": {
      "text/plain": [
       "[68921, 74088, 79507, 85184, 91125, 97336, 103823, 110592, 117649, 125000]"
      ]
     },
     "execution_count": 29,
     "metadata": {},
     "output_type": "execute_result"
    }
   ],
   "source": [
    "n=[i**3 for i in range (41,51)]\n",
    "n"
   ]
  },
  {
   "cell_type": "code",
   "execution_count": 52,
   "metadata": {},
   "outputs": [
    {
     "name": "stdout",
     "output_type": "stream",
     "text": [
      "[1]\n",
      "[1, 2]\n",
      "[1, 2, 6]\n",
      "[1, 2, 6, 24]\n",
      "[1, 2, 6, 24, 120]\n"
     ]
    }
   ],
   "source": [
    "#function to find out the factorial of a number\n",
    "def factorial(n):\n",
    "    l=[]\n",
    "    fact=1\n",
    "    for i in range(1,n+1):\n",
    "        fact=fact*i\n",
    "        l.append(fact)\n",
    "        print(l)\n",
    "factorial(5)"
   ]
  },
  {
   "cell_type": "code",
   "execution_count": 53,
   "metadata": {},
   "outputs": [
    {
     "name": "stdout",
     "output_type": "stream",
     "text": [
      "[1]\n",
      "[1]\n",
      "[1, 2]\n",
      "[1]\n",
      "[1, 2]\n",
      "[1, 2, 6]\n",
      "[1]\n",
      "[1, 2]\n",
      "[1, 2, 6]\n",
      "[1, 2, 6, 24]\n"
     ]
    }
   ],
   "source": [
    "l_s=[factorial(i) for i in range(5)]"
   ]
  },
  {
   "cell_type": "code",
   "execution_count": 62,
   "metadata": {},
   "outputs": [
    {
     "data": {
      "text/plain": [
       "[12, 14, 16, 18, 20]"
      ]
     },
     "execution_count": 62,
     "metadata": {},
     "output_type": "execute_result"
    }
   ],
   "source": [
    "#even odd\n",
    "n=[i  for  i in range(11,21) if(i%2==0)]\n",
    "n"
   ]
  },
  {
   "cell_type": "code",
   "execution_count": 61,
   "metadata": {},
   "outputs": [
    {
     "data": {
      "text/plain": [
       "[11, 13, 15, 17, 19]"
      ]
     },
     "execution_count": 61,
     "metadata": {},
     "output_type": "execute_result"
    }
   ],
   "source": [
    "#odd number\n",
    "m=[i for i in range(11,21) if(i%2!=0)]\n",
    "m"
   ]
  },
  {
   "cell_type": "code",
   "execution_count": 63,
   "metadata": {},
   "outputs": [
    {
     "name": "stdout",
     "output_type": "stream",
     "text": [
      "[12, 14, 16, 18, 20]\n",
      "[11, 13, 15, 17, 19]\n"
     ]
    }
   ],
   "source": [
    "n=[i  for  i in range(11,21) if(i%2==0)]\n",
    "m=[i for i in range(11,21) if(i%2!=0)]\n",
    "print(n)\n",
    "print(m)"
   ]
  },
  {
   "cell_type": "code",
   "execution_count": 64,
   "metadata": {},
   "outputs": [
    {
     "name": "stdout",
     "output_type": "stream",
     "text": [
      "['odd', 'even', 'odd', 'even', 'odd', 'even', 'odd', 'even', 'odd', 'even']\n",
      "[11, 12, 13, 14, 15, 16, 17, 18, 19, 20]\n"
     ]
    }
   ],
   "source": [
    "h=[\"even\" if i%2==0 else \"odd\" for i in range(11,21)]\n",
    "k=[i if i%2==0 else i for i in range(11,21)]\n",
    "print(h)\n",
    "print(k)"
   ]
  },
  {
   "cell_type": "code",
   "execution_count": 65,
   "metadata": {},
   "outputs": [
    {
     "data": {
      "text/plain": [
       "[10, 20]"
      ]
     },
     "execution_count": 65,
     "metadata": {},
     "output_type": "execute_result"
    }
   ],
   "source": [
    "a=[i for i in range(1,20+1) if i%2==0 if i%5==0]\n",
    "a"
   ]
  },
  {
   "cell_type": "code",
   "execution_count": 68,
   "metadata": {},
   "outputs": [
    {
     "data": {
      "text/plain": [
       "[2000, 2004, 2008, 2012, 2016]"
      ]
     },
     "execution_count": 68,
     "metadata": {},
     "output_type": "execute_result"
    }
   ],
   "source": [
    "#leap year\n",
    "year=[i for i in range(2000,2020)  if i%4==0 if i%400==0 or i%100!=0]\n",
    "year"
   ]
  },
  {
   "cell_type": "markdown",
   "metadata": {},
   "source": [
    "# lambda"
   ]
  },
  {
   "cell_type": "code",
   "execution_count": 72,
   "metadata": {},
   "outputs": [
    {
     "name": "stdout",
     "output_type": "stream",
     "text": [
      "16\n"
     ]
    }
   ],
   "source": [
    "#anonmymous function\n",
    "# syntax\n",
    "#lambda arguments:expression\n",
    "def square(n):\n",
    "    n**2\n",
    "square(3)\n",
    "d=lambda n:n**2\n",
    "print(d(4))"
   ]
  },
  {
   "cell_type": "code",
   "execution_count": 73,
   "metadata": {},
   "outputs": [
    {
     "name": "stdout",
     "output_type": "stream",
     "text": [
      "27\n"
     ]
    }
   ],
   "source": [
    "s=lambda  n:n**3\n",
    "print(s(3))\n",
    "    "
   ]
  },
  {
   "cell_type": "code",
   "execution_count": 74,
   "metadata": {},
   "outputs": [
    {
     "name": "stdout",
     "output_type": "stream",
     "text": [
      "[1, 4, 16, 25, 36]\n"
     ]
    }
   ],
   "source": [
    "l=[1,2,4,5,6]\n",
    "l1=[]\n",
    "for i in range(len(l)):\n",
    "    a=l[i]**2\n",
    "    l1.append(a)\n",
    "print(l1)    "
   ]
  },
  {
   "cell_type": "code",
   "execution_count": 75,
   "metadata": {},
   "outputs": [
    {
     "data": {
      "text/plain": [
       "[1, 4, 16, 25, 36]"
      ]
     },
     "execution_count": 75,
     "metadata": {},
     "output_type": "execute_result"
    }
   ],
   "source": [
    "a=[l[i]**2 for i in range(len(l))]\n",
    "a"
   ]
  },
  {
   "cell_type": "markdown",
   "metadata": {},
   "source": [
    "# Iterators"
   ]
  },
  {
   "cell_type": "code",
   "execution_count": 76,
   "metadata": {},
   "outputs": [
    {
     "name": "stdout",
     "output_type": "stream",
     "text": [
      "1\n",
      "2\n",
      "3\n",
      "4\n",
      "5\n"
     ]
    }
   ],
   "source": [
    "l=[1,2,3,4,5]\n",
    "for i in l:\n",
    "    print(i)"
   ]
  },
  {
   "cell_type": "code",
   "execution_count": 78,
   "metadata": {},
   "outputs": [
    {
     "name": "stdout",
     "output_type": "stream",
     "text": [
      "1\n",
      "2\n",
      "3\n",
      "4\n",
      "5\n"
     ]
    }
   ],
   "source": [
    "#iter(),next()\n",
    "a=iter(l)\n",
    "print(next(a))\n",
    "print(next(a))\n",
    "print(next(a))\n",
    "print(next(a))\n",
    "print(next(a))"
   ]
  },
  {
   "cell_type": "markdown",
   "metadata": {},
   "source": [
    "## genarators"
   ]
  },
  {
   "cell_type": "code",
   "execution_count": 80,
   "metadata": {},
   "outputs": [
    {
     "data": {
      "text/plain": [
       "7"
      ]
     },
     "execution_count": 80,
     "metadata": {},
     "output_type": "execute_result"
    }
   ],
   "source": [
    "def add(a,b):\n",
    "    return a+b\n",
    "    a+=1\n",
    "    b+=1\n",
    "    return a+b\n",
    "add(3,4)"
   ]
  },
  {
   "cell_type": "code",
   "execution_count": 84,
   "metadata": {},
   "outputs": [
    {
     "name": "stdout",
     "output_type": "stream",
     "text": [
      "7\n",
      "9\n",
      "7\n",
      "9\n"
     ]
    }
   ],
   "source": [
    "#yield\n",
    "def add(a,b):\n",
    "    c=a+b\n",
    "    yield c\n",
    "    a+=1\n",
    "    b+=1\n",
    "    c=a+b\n",
    "    yield c\n",
    "d=add(3,4)\n",
    "print(next(d))\n",
    "print(next(d))\n",
    "for i in add(3,4):\n",
    "    print(i)"
   ]
  },
  {
   "cell_type": "code",
   "execution_count": null,
   "metadata": {},
   "outputs": [],
   "source": [
    "#factorial\n",
    "def factorial"
   ]
  },
  {
   "cell_type": "markdown",
   "metadata": {},
   "source": [
    "# Map"
   ]
  },
  {
   "cell_type": "code",
   "execution_count": 86,
   "metadata": {},
   "outputs": [
    {
     "name": "stdout",
     "output_type": "stream",
     "text": [
      "[1, 4, 9, 16, 25]\n"
     ]
    }
   ],
   "source": [
    "#syntax---map(function,iterabale)\n",
    "def square(n):\n",
    "    return n**2\n",
    "l=[1,2,3,4,5]\n",
    "print(list(map (square,l)))"
   ]
  },
  {
   "cell_type": "code",
   "execution_count": 88,
   "metadata": {},
   "outputs": [
    {
     "name": "stdout",
     "output_type": "stream",
     "text": [
      "[1, 4, 9, 16]\n"
     ]
    }
   ],
   "source": [
    "l=[1,2,3,4,]\n",
    "print(list(map(lambda x:x**2,l)))"
   ]
  },
  {
   "cell_type": "code",
   "execution_count": 89,
   "metadata": {},
   "outputs": [
    {
     "name": "stdout",
     "output_type": "stream",
     "text": [
      "[5, 7, 9]\n"
     ]
    }
   ],
   "source": [
    "#addition of two numbers\n",
    "t=(1,2,3)\n",
    "t1=(4,5,6)\n",
    "a=map(lambda a,b:a+b,t,t1)\n",
    "print(list(a))\n",
    "\n",
    "    "
   ]
  },
  {
   "cell_type": "markdown",
   "metadata": {},
   "source": [
    "# Filter"
   ]
  },
  {
   "cell_type": "code",
   "execution_count": 122,
   "metadata": {},
   "outputs": [
    {
     "data": {
      "text/plain": [
       "[2, 4, 6, 8]"
      ]
     },
     "execution_count": 122,
     "metadata": {},
     "output_type": "execute_result"
    }
   ],
   "source": [
    "#filter(fun,iterable)\n",
    "l=[1,2,3,4,5,6,7,8]\n",
    "a=list(filter(lambda x:x%2==0,l))\n",
    "a"
   ]
  },
  {
   "cell_type": "code",
   "execution_count": 123,
   "metadata": {},
   "outputs": [
    {
     "name": "stdout",
     "output_type": "stream",
     "text": [
      "[1, 2, 3, 4, 5, 6, 7, 8]\n"
     ]
    }
   ],
   "source": [
    "s=[1,2,3,'a','b']\n",
    "l1=[]\n",
    "for i in l:\n",
    "    if str(i).isdigit():\n",
    "        l1.append(i)\n",
    "print(l1)\n",
    "def digit(n):\n",
    "        if str(n).isdigit():\n",
    "            return True\n",
    "        return False\n",
    "a=list(filter(digit,l1))\n"
   ]
  },
  {
   "cell_type": "code",
   "execution_count": 124,
   "metadata": {},
   "outputs": [
    {
     "name": "stdout",
     "output_type": "stream",
     "text": [
      "[2, 3, 5, 7]\n"
     ]
    }
   ],
   "source": [
    "#prime number\n",
    "def prime(n):\n",
    "    fact=0\n",
    "    for i in range(1,n+1):\n",
    "        if n%i==0:\n",
    "            fact=fact+1\n",
    "    if fact==2:\n",
    "        return 1\n",
    "    return 0\n",
    "print(list(filter(prime,l)))"
   ]
  },
  {
   "cell_type": "code",
   "execution_count": null,
   "metadata": {},
   "outputs": [],
   "source": []
  }
 ],
 "metadata": {
  "kernelspec": {
   "display_name": "Python 3",
   "language": "python",
   "name": "python3"
  },
  "language_info": {
   "codemirror_mode": {
    "name": "ipython",
    "version": 3
   },
   "file_extension": ".py",
   "mimetype": "text/x-python",
   "name": "python",
   "nbconvert_exporter": "python",
   "pygments_lexer": "ipython3",
   "version": "3.7.3"
  }
 },
 "nbformat": 4,
 "nbformat_minor": 2
}
