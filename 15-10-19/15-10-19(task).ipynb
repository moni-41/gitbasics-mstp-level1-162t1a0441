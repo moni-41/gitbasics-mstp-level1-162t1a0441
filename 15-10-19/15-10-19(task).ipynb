{
 "cells": [
  {
   "cell_type": "code",
   "execution_count": 1,
   "metadata": {},
   "outputs": [
    {
     "name": "stdout",
     "output_type": "stream",
     "text": [
      "50\n",
      "26.0\n"
     ]
    }
   ],
   "source": [
    "# first class percentage\n",
    "filepath=\"student marks.txt\"\n",
    "def passpercentage(filepath):\n",
    "    passcount=0\n",
    "    count=0\n",
    "    with open(filepath,'r') as f:\n",
    "        f1=f.read()\n",
    "        for i in f1.split():\n",
    "            count+=1\n",
    "            if int(i)>=75:\n",
    "                passcount+=1\n",
    "        print(count)\n",
    "        print((passcount/count)*100)\n",
    "passpercentage(filepath)        \n",
    "            \n",
    "               "
   ]
  },
  {
   "cell_type": "code",
   "execution_count": 2,
   "metadata": {},
   "outputs": [
    {
     "name": "stdout",
     "output_type": "stream",
     "text": [
      "50\n",
      "56.00000000000001\n"
     ]
    }
   ],
   "source": [
    "# second class percentage\n",
    "filepath=\"student marks.txt\"\n",
    "def passpercentage(filepath):\n",
    "    passcount=0\n",
    "    count=0\n",
    "    with open(filepath,'r') as f:\n",
    "        f1=f.read()\n",
    "        for i in f1.split():\n",
    "            count+=1\n",
    "            if int(i)>=50:\n",
    "                passcount+=1\n",
    "        print(count)\n",
    "        print((passcount/count)*100)\n",
    "passpercentage(filepath)        \n",
    "            "
   ]
  },
  {
   "cell_type": "code",
   "execution_count": 3,
   "metadata": {},
   "outputs": [
    {
     "name": "stdout",
     "output_type": "stream",
     "text": [
      "50\n",
      "68.0\n"
     ]
    }
   ],
   "source": [
    "# third class percentage\n",
    "filepath=\"student marks.txt\"\n",
    "def passpercentage(filepath):\n",
    "    passcount=0\n",
    "    count=0\n",
    "    with open(filepath,'r') as f:\n",
    "        f1=f.read()\n",
    "        for i in f1.split():\n",
    "            count+=1\n",
    "            if int(i)>=30:\n",
    "                passcount+=1\n",
    "        print(count)\n",
    "        print((passcount/count)*100)\n",
    "passpercentage(filepath)        \n",
    "            "
   ]
  },
  {
   "cell_type": "code",
   "execution_count": null,
   "metadata": {},
   "outputs": [],
   "source": []
  }
 ],
 "metadata": {
  "kernelspec": {
   "display_name": "Python 3",
   "language": "python",
   "name": "python3"
  },
  "language_info": {
   "codemirror_mode": {
    "name": "ipython",
    "version": 3
   },
   "file_extension": ".py",
   "mimetype": "text/x-python",
   "name": "python",
   "nbconvert_exporter": "python",
   "pygments_lexer": "ipython3",
   "version": "3.7.3"
  }
 },
 "nbformat": 4,
 "nbformat_minor": 2
}
