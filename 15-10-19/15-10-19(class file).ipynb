{
 "cells": [
  {
   "cell_type": "code",
   "execution_count": 1,
   "metadata": {},
   "outputs": [],
   "source": [
    "filepath=\"content.txt\"\n",
    "def file(filepath):\n",
    "    with open(filepath,'w') as f:\n",
    "        f.write(\"hii\\n hello \\n welcome to python\")\n",
    "file(filepath)        "
   ]
  },
  {
   "cell_type": "code",
   "execution_count": 3,
   "metadata": {},
   "outputs": [
    {
     "name": "stdout",
     "output_type": "stream",
     "text": [
      "hii\n",
      " hello \n",
      " welcome to python\n"
     ]
    }
   ],
   "source": [
    "filepath=\"content.txt\"\n",
    "def readdata(filepath):\n",
    "    with open(filepath,'r') as f:\n",
    "        f1=f.read()\n",
    "        print(f1)\n",
    "readdata(filepath)"
   ]
  },
  {
   "cell_type": "code",
   "execution_count": 16,
   "metadata": {},
   "outputs": [],
   "source": [
    "filepath=\"student marks.txt\"#print marks for 50 students\n",
    "import random\n",
    "def marksmemo(filepath,n):\n",
    "    with open(filepath,'w') as f:\n",
    "        for i in range(n):\n",
    "            f.write((str(random.randint(1,100))+'\\n'))\n",
    "marksmemo(filepath,50)                               \n",
    "    "
   ]
  },
  {
   "cell_type": "code",
   "execution_count": 19,
   "metadata": {},
   "outputs": [
    {
     "name": "stdout",
     "output_type": "stream",
     "text": [
      "2471\n",
      "50\n"
     ]
    },
    {
     "data": {
      "text/plain": [
       "4900"
      ]
     },
     "execution_count": 19,
     "metadata": {},
     "output_type": "execute_result"
    }
   ],
   "source": [
    "filepath=\"student marks.txt\"#avg marks of 50 students\n",
    "def classavg(filepath):\n",
    "    s=0\n",
    "    c=0\n",
    "    with open(filepath,'r') as f:\n",
    "        f1=f.read()\n",
    "        l=f1.split()\n",
    "        for i in l:\n",
    "            s=s+int(i)\n",
    "            c=c+1\n",
    "        avg=s//c*100\n",
    "        print(s)\n",
    "        print(c)\n",
    "    return avg\n",
    "classavg(filepath)\n"
   ]
  },
  {
   "cell_type": "code",
   "execution_count": 26,
   "metadata": {},
   "outputs": [
    {
     "name": "stdout",
     "output_type": "stream",
     "text": [
      "50\n",
      "66.0\n"
     ]
    }
   ],
   "source": [
    "# class pass percentage\n",
    "filepath=\"student marks.txt\"\n",
    "def passpercentage(filepath):\n",
    "    passcount=0\n",
    "    count=0\n",
    "    with open(filepath,'r') as f:\n",
    "        f1=f.read()\n",
    "        for i in f1.split():\n",
    "            count+=1\n",
    "            if int(i)>=35:\n",
    "                passcount+=1\n",
    "        print(count)\n",
    "        print((passcount/count)*100)\n",
    "passpercentage(filepath)        \n",
    "            \n",
    "               \n",
    "        \n"
   ]
  },
  {
   "cell_type": "code",
   "execution_count": 27,
   "metadata": {},
   "outputs": [
    {
     "name": "stdout",
     "output_type": "stream",
     "text": [
      "50\n",
      "34.0\n"
     ]
    }
   ],
   "source": [
    "filepath=\"student marks.txt\"#passcount\n",
    "def passpercentage(filepath):\n",
    "    failcount=0\n",
    "    count=0\n",
    "    with open(filepath,'r') as f:\n",
    "        f1=f.read()\n",
    "        for i in f1.split():\n",
    "            count+=1\n",
    "            if int(i)<35:\n",
    "                failcount+=1\n",
    "        print(count)\n",
    "        print((failcount/count)*100)\n",
    "passpercentage(filepath)        \n",
    "            \n",
    "               "
   ]
  },
  {
   "cell_type": "code",
   "execution_count": 29,
   "metadata": {},
   "outputs": [
    {
     "name": "stdout",
     "output_type": "stream",
     "text": [
      "50\n",
      "66.0\n"
     ]
    }
   ],
   "source": [
    "filepath=\"student marks.txt\"#fail count\n",
    "def passpercentage(filepath):\n",
    "    passcount=0\n",
    "    count=0\n",
    "    with open(filepath,'r') as f:\n",
    "        f1=f.read()\n",
    "        for i in f1.split():\n",
    "            count+=1\n",
    "            if int(i)>=35:\n",
    "                passcount+=1\n",
    "        print(count)\n",
    "        print((passcount/count)*100)\n",
    "passpercentage(filepath)        \n",
    "            \n",
    "               "
   ]
  },
  {
   "cell_type": "code",
   "execution_count": 41,
   "metadata": {},
   "outputs": [
    {
     "name": "stdout",
     "output_type": "stream",
     "text": [
      "99\n",
      "91\n",
      "100\n",
      "91\n",
      "100\n"
     ]
    }
   ],
   "source": [
    "filepath=\"student marks.txt\"#\n",
    "def highestmarks(filepath):\n",
    "\n",
    "    with open(filepath,'r') as f:\n",
    "        f1=f.read()\n",
    "        l=f1.split()\n",
    "        for i in l:\n",
    "            if (int(i)>=90):\n",
    "                print(int(i))\n",
    "        \n",
    "highestmarks(filepath)        \n",
    "            "
   ]
  },
  {
   "cell_type": "code",
   "execution_count": 42,
   "metadata": {},
   "outputs": [
    {
     "name": "stdout",
     "output_type": "stream",
     "text": [
      "9\n",
      "8\n",
      "16\n",
      "14\n",
      "3\n",
      "3\n",
      "4\n",
      "5\n",
      "16\n",
      "18\n",
      "5\n",
      "11\n",
      "3\n"
     ]
    }
   ],
   "source": [
    "filepath=\"student marks.txt\"#\n",
    "def lowestmarks(filepath):\n",
    "\n",
    "    with open(filepath,'r') as f:\n",
    "        f1=f.read()\n",
    "        l=f1.split()\n",
    "        for i in l:\n",
    "            if (int(i)<=20):\n",
    "                print(int(i))\n",
    "        \n",
    "lowestmarks(filepath)        \n",
    "            "
   ]
  },
  {
   "cell_type": "code",
   "execution_count": 35,
   "metadata": {},
   "outputs": [
    {
     "name": "stdout",
     "output_type": "stream",
     "text": [
      "['hii', ' hello ', ' welcome to python']\n",
      " welcome to python 1\n",
      "hii 1\n",
      " hello  1\n"
     ]
    }
   ],
   "source": [
    "filepath=\"content.txt\"\n",
    "def frequencycount(filepath):\n",
    "    with open(filepath,'r') as f:\n",
    "        f1=f.read()\n",
    "        l=f1.split('\\n')\n",
    "        print(l)\n",
    "        for i in set(l):\n",
    "            print(i,l.count(i))\n",
    "frequencycount(filepath)        \n",
    "    "
   ]
  },
  {
   "cell_type": "code",
   "execution_count": 39,
   "metadata": {},
   "outputs": [
    {
     "name": "stdout",
     "output_type": "stream",
     "text": [
      "f : 2 g : 2 h : 3   : 2 w : 1 t : 1 h : 3   : 2 f : 2 g : 2 h : 3 "
     ]
    }
   ],
   "source": [
    "d={}\n",
    "s=\"fgh wth fgh\"\n",
    "for i in s:\n",
    "    print(i,':',s.count(i),end=\" \")"
   ]
  },
  {
   "cell_type": "code",
   "execution_count": 40,
   "metadata": {},
   "outputs": [
    {
     "name": "stdout",
     "output_type": "stream",
     "text": [
      "hii\n",
      " hello \n",
      " welcome to python hii\n",
      " hello \n",
      " mouni to python "
     ]
    }
   ],
   "source": [
    "filepath=\"content.txt\"\n",
    "def findreplace(filepath):\n",
    "    with open (filepath,'r')as f:\n",
    "        f1=f.read()\n",
    "        s=f1.replace(\"welcome\",\"mouni\")\n",
    "    print(f1,end=\" \")\n",
    "    print(s,end=\" \")\n",
    "findreplace(filepath)\n",
    "        \n"
   ]
  },
  {
   "cell_type": "code",
   "execution_count": null,
   "metadata": {},
   "outputs": [],
   "source": []
  }
 ],
 "metadata": {
  "kernelspec": {
   "display_name": "Python 3",
   "language": "python",
   "name": "python3"
  },
  "language_info": {
   "codemirror_mode": {
    "name": "ipython",
    "version": 3
   },
   "file_extension": ".py",
   "mimetype": "text/x-python",
   "name": "python",
   "nbconvert_exporter": "python",
   "pygments_lexer": "ipython3",
   "version": "3.7.3"
  }
 },
 "nbformat": 4,
 "nbformat_minor": 2
}
