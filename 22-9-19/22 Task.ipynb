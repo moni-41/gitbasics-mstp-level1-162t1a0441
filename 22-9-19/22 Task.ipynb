{
 "cells": [
  {
   "cell_type": "code",
   "execution_count": 5,
   "metadata": {},
   "outputs": [
    {
     "name": "stdout",
     "output_type": "stream",
     "text": [
      "abc.java\n",
      "java\n"
     ]
    }
   ],
   "source": [
    "2.#write a python program to accept the filename frome the user and print the extension of that\n",
    "#sample filename:abc.java\n",
    "#output :java\n",
    "a=input()\n",
    "x=a.split('.')\n",
    "y=x[1]\n",
    "print(y)"
   ]
  },
  {
   "cell_type": "code",
   "execution_count": 7,
   "metadata": {},
   "outputs": [
    {
     "name": "stdout",
     "output_type": "stream",
     "text": [
      "5\n",
      "155\n"
     ]
    }
   ],
   "source": [
    "3.#write a python program that accept  an integer (n)and compute value n+n++nnn\n",
    "#sample value 5\n",
    "#output value 615\n",
    "n=int(input())\n",
    "print(n+n*n+n*n*n)"
   ]
  },
  {
   "cell_type": "code",
   "execution_count": 13,
   "metadata": {},
   "outputs": [
    {
     "name": "stdout",
     "output_type": "stream",
     "text": [
      "abc\n",
      "xyz\n",
      "xyc abz\n"
     ]
    }
   ],
   "source": [
    "#5.rite a python program given single string from two given strings seprated by space and swap first two characters \n",
    "#sample string:'abc','xyz'\n",
    "#output 'xycabz'\n",
    "a=input()\n",
    "b=input()\n",
    "a1=b[0:2]+a[2:]\n",
    "b1=a[0:2]+b[2:]\n",
    "print(a1+\" \"+b1)\n",
    "\n"
   ]
  },
  {
   "cell_type": "code",
   "execution_count": 2,
   "metadata": {},
   "outputs": [
    {
     "name": "stdout",
     "output_type": "stream",
     "text": [
      "mounika\n",
      "gangana\n",
      "gangana mounika\n"
     ]
    }
   ],
   "source": [
    "1.#write a python program that accept username first and last print inreverse order\n",
    "a=input()\n",
    "b=input()\n",
    "print(b,a)"
   ]
  },
  {
   "cell_type": "code",
   "execution_count": 5,
   "metadata": {},
   "outputs": [
    {
     "name": "stdout",
     "output_type": "stream",
     "text": [
      "pyThon PrOgRamm\n",
      "PYtHON pRoGrAMM\n"
     ]
    }
   ],
   "source": [
    "6.#Wrie a python script that takes input from the user and display that input back in upper and lower cases\n",
    "s=input()\n",
    "print(s.swapcase())"
   ]
  },
  {
   "cell_type": "code",
   "execution_count": 17,
   "metadata": {},
   "outputs": [
    {
     "name": "stdout",
     "output_type": "stream",
     "text": [
      "MOUNIKa\n",
      "2\n",
      "moUNIKa\n"
     ]
    }
   ],
   "source": [
    "7.#write a program to lowercase first n character in a string\n",
    "a=input()\n",
    "b=int(input())\n",
    "print(a[:b].lower()+a[b:])\n"
   ]
  },
  {
   "cell_type": "code",
   "execution_count": null,
   "metadata": {},
   "outputs": [],
   "source": []
  }
 ],
 "metadata": {
  "kernelspec": {
   "display_name": "Python 3",
   "language": "python",
   "name": "python3"
  },
  "language_info": {
   "codemirror_mode": {
    "name": "ipython",
    "version": 3
   },
   "file_extension": ".py",
   "mimetype": "text/x-python",
   "name": "python",
   "nbconvert_exporter": "python",
   "pygments_lexer": "ipython3",
   "version": "3.7.3"
  }
 },
 "nbformat": 4,
 "nbformat_minor": 2
}
