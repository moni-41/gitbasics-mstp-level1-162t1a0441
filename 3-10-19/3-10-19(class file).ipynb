{
 "cells": [
  {
   "cell_type": "markdown",
   "metadata": {},
   "source": [
    "## File Handling in python"
   ]
  },
  {
   "cell_type": "markdown",
   "metadata": {},
   "source": [
    "1. read--r\n",
    "2. write--w\n",
    "3. append--a\n",
    "4. readwrite--r+\n",
    "5. write&read--w+\n",
    "6. append&read--a+\n",
    "7. exclusive write--x"
   ]
  },
  {
   "cell_type": "code",
   "execution_count": 7,
   "metadata": {},
   "outputs": [],
   "source": [
    "#file opening\n",
    "#file=open(\"sample.txt\",\"mode\")"
   ]
  },
  {
   "cell_type": "code",
   "execution_count": 12,
   "metadata": {},
   "outputs": [],
   "source": [
    "# create a file and add some content\n",
    "f=open(\"data.txt\",'w')\n",
    "f.write(\"welcome to python\")\n",
    "f.write(\"\\napssdc\\n\")\n",
    "f.close()"
   ]
  },
  {
   "cell_type": "code",
   "execution_count": 14,
   "metadata": {},
   "outputs": [
    {
     "name": "stdout",
     "output_type": "stream",
     "text": [
      "welcome to python\n",
      "apssdc\n",
      "\n"
     ]
    }
   ],
   "source": [
    "#print content of a file\n",
    "filedata=open(\"data.txt\",'r')\n",
    "f1=filedata.read()\n",
    "print(f1)\n",
    "filedata.close()"
   ]
  },
  {
   "cell_type": "code",
   "execution_count": 15,
   "metadata": {},
   "outputs": [
    {
     "name": "stdout",
     "output_type": "stream",
     "text": [
      "welcome to python\n",
      "apssdc\n",
      "\n"
     ]
    }
   ],
   "source": [
    "def read(f1):# function to print data of a file\n",
    "    filedata=open(\"data.txt\",'r')\n",
    "    f1=filedata.read()\n",
    "    print(f1)\n",
    "read(f1)    \n"
   ]
  },
  {
   "cell_type": "code",
   "execution_count": 20,
   "metadata": {},
   "outputs": [],
   "source": [
    "#function to write data to a life \n",
    "#data=\"mstp  apssdc\"\n",
    "def write(x1):\n",
    "    f=open(\"data.txt\",'w')\n",
    "    f.write(\"mstp\")\n",
    "    f.write(\"\\napssdc\\n\")\n",
    "    f.write(\"welcome to python\")\n",
    "    f.close()\n",
    "x1=\"data.txt\"\n",
    "write(x1)"
   ]
  },
  {
   "cell_type": "code",
   "execution_count": 27,
   "metadata": {},
   "outputs": [],
   "source": [
    "def append(f1):\n",
    "    f=open(\"data.txt\",'a')\n",
    "    f.write(\"\\nskill development program\\n\")\n",
    "    f.close()\n",
    "f1=\"data.txt\"\n",
    "append(f1)\n",
    "    \n"
   ]
  },
  {
   "cell_type": "code",
   "execution_count": 28,
   "metadata": {},
   "outputs": [
    {
     "name": "stdout",
     "output_type": "stream",
     "text": [
      "mstp\n",
      "apssdc\n",
      "welcome to python\n",
      "skill development program\n",
      "\n"
     ]
    }
   ],
   "source": [
    "def read_file(f1):\n",
    "    f=open(\"data.txt\",'r')\n",
    "    f2=f.read()\n",
    "    print(f2)\n",
    "f1=\"data.txt\"\n",
    "read_file(f1)"
   ]
  },
  {
   "cell_type": "code",
   "execution_count": 25,
   "metadata": {},
   "outputs": [
    {
     "name": "stdout",
     "output_type": "stream",
     "text": [
      "mstp\n",
      "\n"
     ]
    }
   ],
   "source": [
    "f=open(\"data.txt\",'r')\n",
    "x=f.readline()\n",
    "print(x)"
   ]
  },
  {
   "cell_type": "code",
   "execution_count": 29,
   "metadata": {},
   "outputs": [
    {
     "name": "stdout",
     "output_type": "stream",
     "text": [
      "['mstp\\n', 'apssdc\\n', 'welcome to python\\n', 'skill development program\\n']\n"
     ]
    }
   ],
   "source": [
    "f=open(\"data.txt\",'r')\n",
    "z=f.readlines()\n",
    "print(z)"
   ]
  },
  {
   "cell_type": "code",
   "execution_count": 33,
   "metadata": {},
   "outputs": [
    {
     "name": "stdout",
     "output_type": "stream",
     "text": [
      "mstp\n",
      " apssdc\n",
      " welcome to python\n",
      " skill development program\n",
      " "
     ]
    }
   ],
   "source": [
    "# Acessing all content line by line\n",
    "f=open(\"data.txt\",'r')\n",
    "z=f.readlines()\n",
    "for i in z:\n",
    "    print(i,end=\" \")"
   ]
  },
  {
   "cell_type": "code",
   "execution_count": 34,
   "metadata": {},
   "outputs": [
    {
     "name": "stdout",
     "output_type": "stream",
     "text": [
      "mstp\n",
      " apssdc\n",
      " welcome to python\n",
      " skill development program\n",
      " "
     ]
    }
   ],
   "source": [
    "def content(f1):\n",
    "    f=open(\"data.txt\",'r')\n",
    "    z=f.readlines()\n",
    "    for i in z:\n",
    "        print(i,end=\" \")\n",
    "f1=\"data.txt\"\n",
    "content(f1)"
   ]
  },
  {
   "cell_type": "code",
   "execution_count": 45,
   "metadata": {},
   "outputs": [
    {
     "name": "stdout",
     "output_type": "stream",
     "text": [
      "4\n"
     ]
    }
   ],
   "source": [
    "#lines count\n",
    "#charcater count\n",
    "#words count\n",
    "#life length\n",
    "def line_count(f1):#line count\n",
    "    with open(\"data.txt\",'r')as f:\n",
    "        z=f.readlines()\n",
    "        count=0\n",
    "        for i in z:\n",
    "            count+=1\n",
    "        print(count)    \n",
    "f1=\"data.txt\"\n",
    "line_count(f1)"
   ]
  },
  {
   "cell_type": "code",
   "execution_count": 47,
   "metadata": {},
   "outputs": [
    {
     "name": "stdout",
     "output_type": "stream",
     "text": [
      "56\n"
     ]
    }
   ],
   "source": [
    "def character_count(f1):#character count\n",
    "    with open(\"data.txt\",'r')as f:\n",
    "        z=f.read()\n",
    "        count=0\n",
    "        for i in z:\n",
    "            count+=1\n",
    "        print(count)\n",
    "f1=\"data.txt\"\n",
    "character_count(f1)"
   ]
  },
  {
   "cell_type": "code",
   "execution_count": 60,
   "metadata": {},
   "outputs": [
    {
     "name": "stdout",
     "output_type": "stream",
     "text": [
      "5\n"
     ]
    }
   ],
   "source": [
    "def word_count(f1):\n",
    "    c=0\n",
    "    with open(\"data.txt\",'r')as f:\n",
    "        f1=f.read()\n",
    "        f2=f1.split(\" \")\n",
    "        print(len(f2))\n",
    "word_count(f)"
   ]
  },
  {
   "cell_type": "code",
   "execution_count": 53,
   "metadata": {},
   "outputs": [
    {
     "name": "stdout",
     "output_type": "stream",
     "text": [
      "56\n"
     ]
    }
   ],
   "source": [
    "def filelen(f1):#file length\n",
    "    with open(\"data.txt\",'r')as f:\n",
    "        z=f.read()\n",
    "        a=len(z)\n",
    "        print(a)\n",
    "filelen(f1)"
   ]
  },
  {
   "cell_type": "code",
   "execution_count": null,
   "metadata": {},
   "outputs": [],
   "source": []
  }
 ],
 "metadata": {
  "kernelspec": {
   "display_name": "Python 3",
   "language": "python",
   "name": "python3"
  },
  "language_info": {
   "codemirror_mode": {
    "name": "ipython",
    "version": 3
   },
   "file_extension": ".py",
   "mimetype": "text/x-python",
   "name": "python",
   "nbconvert_exporter": "python",
   "pygments_lexer": "ipython3",
   "version": "3.7.3"
  }
 },
 "nbformat": 4,
 "nbformat_minor": 2
}
