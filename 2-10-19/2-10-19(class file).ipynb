{
 "cells": [
  {
   "cell_type": "markdown",
   "metadata": {},
   "source": [
    "## Regular Expressions"
   ]
  },
  {
   "cell_type": "code",
   "execution_count": null,
   "metadata": {},
   "outputs": [],
   "source": [
    "1.abc-that matches the character sequence anywhere in the string\n",
    "2.^begining of the string\n",
    "3.$ end of string"
   ]
  },
  {
   "cell_type": "code",
   "execution_count": 22,
   "metadata": {},
   "outputs": [
    {
     "name": "stdout",
     "output_type": "stream",
     "text": [
      "1\n",
      "1\n",
      "1\n"
     ]
    }
   ],
   "source": [
    "# Phone number validation\n",
    "#^[0][6-9][0-9]{9}$--10 digit number starting with zero\n",
    "#^+91[6789][0-9]{9}$--10 digit number starting with +91\n",
    "#^[6-9][0-9]{9}$ \n",
    "import re\n",
    "def phoneno(no):\n",
    "    pattern=\"^[+][9][1][6789][0-9]{9}$|^[6-9][0-9]{9}$|^[0][6-9][0-9]{9}$\"\n",
    "    if re.match(pattern,str(no)):\n",
    "        return 1\n",
    "    else:\n",
    "        return 0\n",
    "print(phoneno(\"7995647699\"))\n",
    "print(phoneno(\"+919346565402\"))\n",
    "print(phoneno(\"09177729391\"))\n"
   ]
  },
  {
   "cell_type": "code",
   "execution_count": 23,
   "metadata": {},
   "outputs": [
    {
     "data": {
      "text/plain": [
       "1"
      ]
     },
     "execution_count": 23,
     "metadata": {},
     "output_type": "execute_result"
    }
   ],
   "source": [
    "#^([0-9]|[a-z]|[A-Z])([0-9]|[a-z]|[A-Z]|[_]){6,14}([0-9]|[a-z])@[a-z]{2,10}[.][a-z]{2,4}$\n",
    "import re\n",
    "def email(n):\n",
    "    pattern='^([0-9]|[a-z]|[A-Z])([0-9]|[a-z]|[A-Z]|[_]){6,14}([0-9]|[a-z])@[a-z]{2,10}[.][a-z]{2,4}$'\n",
    "    if re.match(pattern,n):\n",
    "        return 1\n",
    "    else:\n",
    "        return 0\n",
    "email(\"mounikagangan06@gmail.com\")    "
   ]
  },
  {
   "cell_type": "code",
   "execution_count": 31,
   "metadata": {},
   "outputs": [
    {
     "name": "stdout",
     "output_type": "stream",
     "text": [
      "phone verified successfully\n",
      "email verified successfully\n"
     ]
    },
    {
     "data": {
      "text/plain": [
       "{'mouni': ['9346565402', 'mounikagangana06@gmail.com'],\n",
       " 'raji': ['9949494980', 'rajiyadhav@gmail.com']}"
      ]
     },
     "execution_count": 31,
     "metadata": {},
     "output_type": "execute_result"
    }
   ],
   "source": [
    "contact={\"mouni\":[\"9346565402\",\"mounikagangana06@gmail.com\"]}\n",
    "def addcontact(name,l):\n",
    "    if name not in contact:\n",
    "        no=l[0]\n",
    "        id=l[1]\n",
    "        if phoneno(no)==1:\n",
    "            print(\"phone verified successfully\")\n",
    "            if email(id)==1:\n",
    "                print(\"email verified successfully\")\n",
    "                contact[name]=l\n",
    "        else:\n",
    "            print(\"enter a valid no and emailid\")\n",
    "    else:\n",
    "         print(\"contact alreay exists\")\n",
    "addcontact(\"raji\",[\"9949494980\",\"rajiyadhav@gmail.com\"])  \n",
    "contact"
   ]
  },
  {
   "cell_type": "code",
   "execution_count": null,
   "metadata": {},
   "outputs": [],
   "source": []
  }
 ],
 "metadata": {
  "kernelspec": {
   "display_name": "Python 3",
   "language": "python",
   "name": "python3"
  },
  "language_info": {
   "codemirror_mode": {
    "name": "ipython",
    "version": 3
   },
   "file_extension": ".py",
   "mimetype": "text/x-python",
   "name": "python",
   "nbconvert_exporter": "python",
   "pygments_lexer": "ipython3",
   "version": "3.7.3"
  }
 },
 "nbformat": 4,
 "nbformat_minor": 2
}
