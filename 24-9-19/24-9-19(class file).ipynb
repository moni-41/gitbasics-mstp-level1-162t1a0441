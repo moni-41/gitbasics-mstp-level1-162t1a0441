{
 "cells": [
  {
   "cell_type": "markdown",
   "metadata": {},
   "source": [
    "## Functions\n",
    "## Reusability\n",
    "## Esay to Debug"
   ]
  },
  {
   "cell_type": "code",
   "execution_count": 1,
   "metadata": {},
   "outputs": [
    {
     "name": "stdout",
     "output_type": "stream",
     "text": [
      "40\n",
      "50\n",
      "90\n"
     ]
    }
   ],
   "source": [
    "def addition():\n",
    "    a=int(input())\n",
    "    b=int(input())\n",
    "    print(a+b)\n",
    "addition()    \n",
    "    "
   ]
  },
  {
   "cell_type": "code",
   "execution_count": 2,
   "metadata": {},
   "outputs": [
    {
     "name": "stdout",
     "output_type": "stream",
     "text": [
      "40\n",
      "67\n",
      "107\n"
     ]
    }
   ],
   "source": [
    "def addition(a,b):\n",
    "    c=a+b\n",
    "    print(c)\n",
    "a=input()\n",
    "b=input()\n",
    "addition(int(a),int(b))"
   ]
  },
  {
   "cell_type": "code",
   "execution_count": 4,
   "metadata": {},
   "outputs": [
    {
     "data": {
      "text/plain": [
       "(20, 40, 60)"
      ]
     },
     "execution_count": 4,
     "metadata": {},
     "output_type": "execute_result"
    }
   ],
   "source": [
    "def add(a,b):\n",
    "    c=a+b\n",
    "    return(a,b,c) \n",
    "    \n",
    "add(20,40)"
   ]
  },
  {
   "cell_type": "code",
   "execution_count": 12,
   "metadata": {},
   "outputs": [
    {
     "name": "stdout",
     "output_type": "stream",
     "text": [
      "67\n",
      "odd\n"
     ]
    }
   ],
   "source": [
    "#Even or odd with arguments\n",
    "def evenorodd(a):\n",
    "    if(a%2==0):\n",
    "        print(\"even\")\n",
    "    else:\n",
    "        print(\"odd\")\n",
    "a=int(input())\n",
    "evenorodd(a)\n",
    "                \n",
    "        \n",
    "            "
   ]
  },
  {
   "cell_type": "code",
   "execution_count": 14,
   "metadata": {},
   "outputs": [
    {
     "name": "stdout",
     "output_type": "stream",
     "text": [
      "1\n",
      "3\n",
      "6\n",
      "10\n",
      "15\n",
      "21\n",
      "28\n",
      "36\n",
      "45\n",
      "55\n"
     ]
    }
   ],
   "source": [
    "# sum of n natural number\n",
    "def sum(n):\n",
    "    s=0\n",
    "    for i in range(1,n+1):\n",
    "        s=s+i\n",
    "        print(s)\n",
    "sum(10)             \n",
    "    "
   ]
  },
  {
   "cell_type": "code",
   "execution_count": 18,
   "metadata": {},
   "outputs": [
    {
     "name": "stdout",
     "output_type": "stream",
     "text": [
      "1\n",
      "2\n",
      "6\n",
      "24\n"
     ]
    }
   ],
   "source": [
    "#product of natural number\n",
    "def product(n):\n",
    "    s=1\n",
    "    for i in  range(1,n+1):\n",
    "        s=s*i\n",
    "        print(s)\n",
    "product(4)        \n",
    "      \n",
    "    "
   ]
  },
  {
   "cell_type": "code",
   "execution_count": 25,
   "metadata": {},
   "outputs": [
    {
     "name": "stdout",
     "output_type": "stream",
     "text": [
      "12\n",
      "6\n"
     ]
    }
   ],
   "source": [
    "#avg of first n natural number\n",
    "def avg(n):\n",
    "    sum=0\n",
    "    count=1\n",
    "    for i in range(1,n+1):\n",
    "        sum=sum+i\n",
    "        count=count+1\n",
    "    print(sum//count)\n",
    "n=int(input())\n",
    "avg(n)"
   ]
  },
  {
   "cell_type": "code",
   "execution_count": 37,
   "metadata": {},
   "outputs": [
    {
     "name": "stdout",
     "output_type": "stream",
     "text": [
      "10\n",
      "1 2 5 "
     ]
    }
   ],
   "source": [
    "# factors of given number\n",
    "def factors(n):\n",
    "    for i in range(1,n):\n",
    "        if(n%i==0):\n",
    "            print(i,end=\" \")\n",
    "            \n",
    "n=int(input())\n",
    "factors(n)\n",
    "    "
   ]
  },
  {
   "cell_type": "code",
   "execution_count": 35,
   "metadata": {},
   "outputs": [
    {
     "name": "stdout",
     "output_type": "stream",
     "text": [
      "8\n"
     ]
    },
    {
     "data": {
      "text/plain": [
       "15"
      ]
     },
     "execution_count": 35,
     "metadata": {},
     "output_type": "execute_result"
    }
   ],
   "source": [
    "#sum of factors\n",
    "def sumoffactors(n):\n",
    "    sum=0\n",
    "    for i in range(1,n+1):\n",
    "        if(n%i==0):\n",
    "            sum=sum+i\n",
    "    return sum       \n",
    "n=int(input())\n",
    "sumoffactors(n)"
   ]
  },
  {
   "cell_type": "code",
   "execution_count": 48,
   "metadata": {},
   "outputs": [
    {
     "name": "stdout",
     "output_type": "stream",
     "text": [
      "2004\n",
      "leap year\n"
     ]
    }
   ],
   "source": [
    "## findout leap year\n",
    "def leap(n):\n",
    "    if(n%4==0 and n%100!=0 or n%400==0):\n",
    "        print(\"leap year\")\n",
    "    else:\n",
    "        print(\"not leap year\")\n",
    "n=int(input())\n",
    "leap(n)"
   ]
  },
  {
   "cell_type": "code",
   "execution_count": 45,
   "metadata": {},
   "outputs": [
    {
     "name": "stdout",
     "output_type": "stream",
     "text": [
      "10\n",
      "1\n",
      "3\n",
      "8\n",
      "not perfect\n"
     ]
    }
   ],
   "source": [
    "#print perfect number\n",
    "def per(n):\n",
    "    sum=0\n",
    "    for i in range(1,n):\n",
    "        if(n%i==0):\n",
    "            sum=sum+i\n",
    "            print(sum)\n",
    "    if(sum==n):\n",
    "        print(\"perfect\")\n",
    "    else:\n",
    "        print(\"not perfect\")\n",
    "n=int(input())\n",
    "per(n)\n",
    "    \n",
    "            \n",
    "    "
   ]
  },
  {
   "cell_type": "code",
   "execution_count": 51,
   "metadata": {},
   "outputs": [
    {
     "name": "stdout",
     "output_type": "stream",
     "text": [
      "8\n",
      "not prime number\n"
     ]
    }
   ],
   "source": [
    "#prime number\n",
    "def prime(n):\n",
    "    fact=1\n",
    "    for i in range(1,n):\n",
    "        if(n%i==0):\n",
    "            fact=fact+1\n",
    "    if(fact==2):\n",
    "        print(\"prime number\")\n",
    "    else:\n",
    "        print(\"not prime number\")\n",
    "n=int(input())\n",
    "prime(n)\n",
    "        "
   ]
  },
  {
   "cell_type": "code",
   "execution_count": null,
   "metadata": {},
   "outputs": [],
   "source": [
    "#Armstrong number\n"
   ]
  }
 ],
 "metadata": {
  "kernelspec": {
   "display_name": "Python 3",
   "language": "python",
   "name": "python3"
  },
  "language_info": {
   "codemirror_mode": {
    "name": "ipython",
    "version": 3
   },
   "file_extension": ".py",
   "mimetype": "text/x-python",
   "name": "python",
   "nbconvert_exporter": "python",
   "pygments_lexer": "ipython3",
   "version": "3.7.3"
  }
 },
 "nbformat": 4,
 "nbformat_minor": 2
}
