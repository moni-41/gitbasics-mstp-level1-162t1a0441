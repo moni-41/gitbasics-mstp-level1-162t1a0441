{
 "cells": [
  {
   "cell_type": "code",
   "execution_count": 21,
   "metadata": {},
   "outputs": [
    {
     "name": "stdout",
     "output_type": "stream",
     "text": [
      "4\n",
      "5\n",
      "6\n",
      "num is not present\n"
     ]
    }
   ],
   "source": [
    "#check the number exist in a given range (input :number(n)),range(lower number and upper number)\n",
    "def range(x,y,z):\n",
    "    if(x<z<y):\n",
    "        print(\"num is present\")\n",
    "    else:\n",
    "        print(\"num is not present\")\n",
    "x=int(input())\n",
    "y=int(input())\n",
    "z=int(input())\n",
    "range(x,y,z)\n",
    "    \n",
    "    \n",
    "        \n"
   ]
  },
  {
   "cell_type": "code",
   "execution_count": 20,
   "metadata": {},
   "outputs": [
    {
     "name": "stdout",
     "output_type": "stream",
     "text": [
      "453\n",
      "3\n"
     ]
    }
   ],
   "source": [
    "#Check the number of digits in a given number\n",
    "def numberofdigits(n):\n",
    "    a=len(n)\n",
    "    print(a)\n",
    "n=input()\n",
    "numberofdigits(n)\n",
    "    "
   ]
  },
  {
   "cell_type": "code",
   "execution_count": 3,
   "metadata": {},
   "outputs": [
    {
     "name": "stdout",
     "output_type": "stream",
     "text": [
      "10\n",
      "factors\n"
     ]
    }
   ],
   "source": [
    "#Check if the given number is a factor of 1000 \n",
    "def fact(n):\n",
    "    if(1000%n==0):\n",
    "        print(\"factors\")\n",
    "    else:\n",
    "        print(\"not factor\")\n",
    "n=int(input())\n",
    "fact(n)\n",
    "        "
   ]
  },
  {
   "cell_type": "code",
   "execution_count": 9,
   "metadata": {},
   "outputs": [
    {
     "name": "stdout",
     "output_type": "stream",
     "text": [
      "4\n",
      "2.0\n"
     ]
    }
   ],
   "source": [
    "#calculate the square root of a given number\n",
    "def sqrt(n):\n",
    "    b=(n**(1/2))\n",
    "    print(b)\n",
    "n=int(input())\n",
    "sqrt(n)\n",
    "        \n"
   ]
  },
  {
   "cell_type": "code",
   "execution_count": 12,
   "metadata": {},
   "outputs": [
    {
     "name": "stdout",
     "output_type": "stream",
     "text": [
      "4\n",
      "4\n",
      "square\n"
     ]
    }
   ],
   "source": [
    "#python program to take values of length and breadth width of rectangle from user and check if it square root or not\n",
    "def rect(n):\n",
    "    if(b!=l):\n",
    "        print(\"rectangular\")\n",
    "    else:\n",
    "        print(\"square\")\n",
    "b=int(input())\n",
    "l=int(input())\n",
    "rect(n)\n",
    "       "
   ]
  },
  {
   "cell_type": "code",
   "execution_count": 17,
   "metadata": {},
   "outputs": [
    {
     "name": "stdout",
     "output_type": "stream",
     "text": [
      "75\n",
      "b\n"
     ]
    }
   ],
   "source": [
    "#A school has following rules for grading system\n",
    "#Below 25-f\n",
    "#25 to 45-e\n",
    "#45 to 50-d\n",
    "#50 to 60-c\n",
    "#60 to 80-b\n",
    "#Above 80-a\n",
    "def school(n):\n",
    "    if(n<25):\n",
    "        print('f')\n",
    "    elif(n>25 and n>45):\n",
    "        print('e')\n",
    "    elif(n>45 and n<50):\n",
    "        print('d')\n",
    "    elif(n>50 and n<60):\n",
    "        print('c')\n",
    "    elif(n>60 and n<80):\n",
    "        print('b')\n",
    "    else:\n",
    "        print('a')\n",
    "n=int(input())\n",
    "school(n)"
   ]
  },
  {
   "cell_type": "code",
   "execution_count": 27,
   "metadata": {},
   "outputs": [
    {
     "name": "stdout",
     "output_type": "stream",
     "text": [
      "23\n",
      "40\n",
      "55\n",
      "oldest 55\n",
      "young 23\n"
     ]
    }
   ],
   "source": [
    "#Take input of age of 3 people by user and determine oldest and youngest among them\n",
    "def age(a,b,c):\n",
    "    if(a>b and b>c):\n",
    "        oldest=a\n",
    "    elif(b>a and b>c):\n",
    "        oldest=b\n",
    "    else:\n",
    "        oldest=c\n",
    "    if(a<b and b<c):\n",
    "        young=a\n",
    "    elif(b<a and b<c):\n",
    "        young=b\n",
    "    else:\n",
    "        young=c\n",
    "    print(\"oldest\",oldest)\n",
    "    print(\"young\",young)\n",
    "a=int(input())\n",
    "b=int(input())\n",
    "c=int(input())\n",
    "age(a,b,c)\n",
    "        "
   ]
  },
  {
   "cell_type": "code",
   "execution_count": 19,
   "metadata": {},
   "outputs": [
    {
     "name": "stdout",
     "output_type": "stream",
     "text": [
      "60\n",
      "50\n",
      "120.0\n",
      "allow to exam\n"
     ]
    }
   ],
   "source": [
    "# A student will not be allowed to sit in exam if his/her attendence is less than 75%\n",
    "#Take the followinginput user number of class held number of class attend\n",
    "#and print percentage of class attendence student allowed to sit in exam or not\n",
    "def attendence(ch,ca):\n",
    "    a=(((ch/ca)*100))\n",
    "    print(a)\n",
    "    if (a>=75):\n",
    "        print(\"allow to exam\")\n",
    "    else:\n",
    "        print(\"not allow to exam\")\n",
    "ch=int(input())\n",
    "ca=int(input())\n",
    "attendence(ch,ca)\n",
    "    "
   ]
  },
  {
   "cell_type": "code",
   "execution_count": null,
   "metadata": {},
   "outputs": [],
   "source": []
  }
 ],
 "metadata": {
  "kernelspec": {
   "display_name": "Python 3",
   "language": "python",
   "name": "python3"
  },
  "language_info": {
   "codemirror_mode": {
    "name": "ipython",
    "version": 3
   },
   "file_extension": ".py",
   "mimetype": "text/x-python",
   "name": "python",
   "nbconvert_exporter": "python",
   "pygments_lexer": "ipython3",
   "version": "3.7.3"
  }
 },
 "nbformat": 4,
 "nbformat_minor": 2
}
